{
 "cells": [
  {
   "cell_type": "markdown",
   "id": "c3cee598",
   "metadata": {},
   "source": [
    "# Importando as Bibliotecas"
   ]
  },
  {
   "cell_type": "code",
   "execution_count": 270,
   "id": "715cd1f4",
   "metadata": {},
   "outputs": [],
   "source": [
    "# import pandas\n",
    "import pandas as pd\n",
    "import seaborn as sn"
   ]
  },
  {
   "cell_type": "code",
   "execution_count": 271,
   "id": "b7f53871",
   "metadata": {},
   "outputs": [],
   "source": [
    "import spacy"
   ]
  },
  {
   "cell_type": "code",
   "execution_count": 272,
   "id": "74d8f13d",
   "metadata": {},
   "outputs": [],
   "source": [
    "from sklearn.feature_extraction.text import TfidfVectorizer\n",
    "from sklearn.model_selection import train_test_split\n",
    "from sklearn.metrics import accuracy_score, classification_report, confusion_matrix\n",
    "# from imblearn.over_sampling import SMOTE"
   ]
  },
  {
   "cell_type": "code",
   "execution_count": 273,
   "id": "65277987",
   "metadata": {},
   "outputs": [],
   "source": [
    "from sklearn.ensemble import RandomForestClassifier\n",
    "from sklearn.linear_model import LogisticRegression\n",
    "from sklearn.svm import SVC"
   ]
  },
  {
   "cell_type": "code",
   "execution_count": 274,
   "id": "f68cc33d",
   "metadata": {},
   "outputs": [],
   "source": [
    "import re\n",
    "import pickle"
   ]
  },
  {
   "cell_type": "markdown",
   "id": "a502633e",
   "metadata": {},
   "source": [
    "# Conhecendo os dados"
   ]
  },
  {
   "cell_type": "code",
   "execution_count": 275,
   "id": "2ec9b69b",
   "metadata": {},
   "outputs": [],
   "source": [
    "df = pd.read_csv(filepath_or_buffer=\"data/Dataset_5971.csv\", sep=\",\")"
   ]
  },
  {
   "cell_type": "code",
   "execution_count": 276,
   "id": "c1a6363b",
   "metadata": {},
   "outputs": [
    {
     "data": {
      "text/html": [
       "<div>\n",
       "<style scoped>\n",
       "    .dataframe tbody tr th:only-of-type {\n",
       "        vertical-align: middle;\n",
       "    }\n",
       "\n",
       "    .dataframe tbody tr th {\n",
       "        vertical-align: top;\n",
       "    }\n",
       "\n",
       "    .dataframe thead th {\n",
       "        text-align: right;\n",
       "    }\n",
       "</style>\n",
       "<table border=\"1\" class=\"dataframe\">\n",
       "  <thead>\n",
       "    <tr style=\"text-align: right;\">\n",
       "      <th></th>\n",
       "      <th>LABEL</th>\n",
       "      <th>TEXT</th>\n",
       "      <th>URL</th>\n",
       "      <th>EMAIL</th>\n",
       "      <th>PHONE</th>\n",
       "    </tr>\n",
       "  </thead>\n",
       "  <tbody>\n",
       "    <tr>\n",
       "      <th>0</th>\n",
       "      <td>ham</td>\n",
       "      <td>Your opinion about me? 1. Over 2. Jada 3. Kusr...</td>\n",
       "      <td>No</td>\n",
       "      <td>No</td>\n",
       "      <td>No</td>\n",
       "    </tr>\n",
       "    <tr>\n",
       "      <th>1</th>\n",
       "      <td>ham</td>\n",
       "      <td>What's up? Do you want me to come online? If y...</td>\n",
       "      <td>No</td>\n",
       "      <td>No</td>\n",
       "      <td>No</td>\n",
       "    </tr>\n",
       "    <tr>\n",
       "      <th>2</th>\n",
       "      <td>ham</td>\n",
       "      <td>So u workin overtime nigpun?</td>\n",
       "      <td>No</td>\n",
       "      <td>No</td>\n",
       "      <td>No</td>\n",
       "    </tr>\n",
       "    <tr>\n",
       "      <th>3</th>\n",
       "      <td>ham</td>\n",
       "      <td>Also sir, i sent you an email about how to log...</td>\n",
       "      <td>No</td>\n",
       "      <td>No</td>\n",
       "      <td>No</td>\n",
       "    </tr>\n",
       "    <tr>\n",
       "      <th>4</th>\n",
       "      <td>Smishing</td>\n",
       "      <td>Please Stay At Home. To encourage the notion o...</td>\n",
       "      <td>No</td>\n",
       "      <td>No</td>\n",
       "      <td>No</td>\n",
       "    </tr>\n",
       "    <tr>\n",
       "      <th>...</th>\n",
       "      <td>...</td>\n",
       "      <td>...</td>\n",
       "      <td>...</td>\n",
       "      <td>...</td>\n",
       "      <td>...</td>\n",
       "    </tr>\n",
       "    <tr>\n",
       "      <th>5965</th>\n",
       "      <td>ham</td>\n",
       "      <td>Becoz its  &amp;lt;#&amp;gt;  jan whn al the post ofic...</td>\n",
       "      <td>No</td>\n",
       "      <td>No</td>\n",
       "      <td>No</td>\n",
       "    </tr>\n",
       "    <tr>\n",
       "      <th>5966</th>\n",
       "      <td>ham</td>\n",
       "      <td>Its a valentine game. . . send dis msg to all ...</td>\n",
       "      <td>No</td>\n",
       "      <td>No</td>\n",
       "      <td>No</td>\n",
       "    </tr>\n",
       "    <tr>\n",
       "      <th>5967</th>\n",
       "      <td>ham</td>\n",
       "      <td>We r outside already.</td>\n",
       "      <td>No</td>\n",
       "      <td>No</td>\n",
       "      <td>No</td>\n",
       "    </tr>\n",
       "    <tr>\n",
       "      <th>5968</th>\n",
       "      <td>ham</td>\n",
       "      <td>The Xmas story is peace.. The Xmas msg is love...</td>\n",
       "      <td>No</td>\n",
       "      <td>No</td>\n",
       "      <td>No</td>\n",
       "    </tr>\n",
       "    <tr>\n",
       "      <th>5969</th>\n",
       "      <td>Smishing</td>\n",
       "      <td>Dear Customer, You are Qualified for $5,000. T...</td>\n",
       "      <td>No</td>\n",
       "      <td>No</td>\n",
       "      <td>yes</td>\n",
       "    </tr>\n",
       "  </tbody>\n",
       "</table>\n",
       "<p>5970 rows × 5 columns</p>\n",
       "</div>"
      ],
      "text/plain": [
       "         LABEL                                               TEXT URL EMAIL  \\\n",
       "0          ham  Your opinion about me? 1. Over 2. Jada 3. Kusr...  No    No   \n",
       "1          ham  What's up? Do you want me to come online? If y...  No    No   \n",
       "2          ham                       So u workin overtime nigpun?  No    No   \n",
       "3          ham  Also sir, i sent you an email about how to log...  No    No   \n",
       "4     Smishing  Please Stay At Home. To encourage the notion o...  No    No   \n",
       "...        ...                                                ...  ..   ...   \n",
       "5965       ham  Becoz its  &lt;#&gt;  jan whn al the post ofic...  No    No   \n",
       "5966       ham  Its a valentine game. . . send dis msg to all ...  No    No   \n",
       "5967       ham                              We r outside already.  No    No   \n",
       "5968       ham  The Xmas story is peace.. The Xmas msg is love...  No    No   \n",
       "5969  Smishing  Dear Customer, You are Qualified for $5,000. T...  No    No   \n",
       "\n",
       "     PHONE  \n",
       "0       No  \n",
       "1       No  \n",
       "2       No  \n",
       "3       No  \n",
       "4       No  \n",
       "...    ...  \n",
       "5965    No  \n",
       "5966    No  \n",
       "5967    No  \n",
       "5968    No  \n",
       "5969   yes  \n",
       "\n",
       "[5970 rows x 5 columns]"
      ]
     },
     "metadata": {},
     "output_type": "display_data"
    }
   ],
   "source": [
    "display(df)"
   ]
  },
  {
   "cell_type": "code",
   "execution_count": 277,
   "id": "7d9dd538",
   "metadata": {},
   "outputs": [
    {
     "data": {
      "text/plain": [
       "LABEL    object\n",
       "TEXT     object\n",
       "URL      object\n",
       "EMAIL    object\n",
       "PHONE    object\n",
       "dtype: object"
      ]
     },
     "execution_count": 277,
     "metadata": {},
     "output_type": "execute_result"
    }
   ],
   "source": [
    "df.dtypes"
   ]
  },
  {
   "cell_type": "code",
   "execution_count": 278,
   "id": "f5a89386",
   "metadata": {},
   "outputs": [
    {
     "name": "stdout",
     "output_type": "stream",
     "text": [
      "<class 'pandas.core.frame.DataFrame'>\n",
      "RangeIndex: 5970 entries, 0 to 5969\n",
      "Data columns (total 5 columns):\n",
      " #   Column  Non-Null Count  Dtype \n",
      "---  ------  --------------  ----- \n",
      " 0   LABEL   5970 non-null   object\n",
      " 1   TEXT    5970 non-null   object\n",
      " 2   URL     5970 non-null   object\n",
      " 3   EMAIL   5970 non-null   object\n",
      " 4   PHONE   5970 non-null   object\n",
      "dtypes: object(5)\n",
      "memory usage: 233.3+ KB\n"
     ]
    }
   ],
   "source": [
    "df.info()"
   ]
  },
  {
   "cell_type": "code",
   "execution_count": 279,
   "id": "cd736976",
   "metadata": {},
   "outputs": [
    {
     "data": {
      "text/html": [
       "<div>\n",
       "<style scoped>\n",
       "    .dataframe tbody tr th:only-of-type {\n",
       "        vertical-align: middle;\n",
       "    }\n",
       "\n",
       "    .dataframe tbody tr th {\n",
       "        vertical-align: top;\n",
       "    }\n",
       "\n",
       "    .dataframe thead th {\n",
       "        text-align: right;\n",
       "    }\n",
       "</style>\n",
       "<table border=\"1\" class=\"dataframe\">\n",
       "  <thead>\n",
       "    <tr style=\"text-align: right;\">\n",
       "      <th></th>\n",
       "      <th>LABEL</th>\n",
       "      <th>TEXT</th>\n",
       "      <th>URL</th>\n",
       "      <th>EMAIL</th>\n",
       "      <th>PHONE</th>\n",
       "    </tr>\n",
       "  </thead>\n",
       "  <tbody>\n",
       "    <tr>\n",
       "      <th>count</th>\n",
       "      <td>5970</td>\n",
       "      <td>5970</td>\n",
       "      <td>5970</td>\n",
       "      <td>5970</td>\n",
       "      <td>5970</td>\n",
       "    </tr>\n",
       "    <tr>\n",
       "      <th>unique</th>\n",
       "      <td>5</td>\n",
       "      <td>5949</td>\n",
       "      <td>2</td>\n",
       "      <td>2</td>\n",
       "      <td>2</td>\n",
       "    </tr>\n",
       "    <tr>\n",
       "      <th>top</th>\n",
       "      <td>ham</td>\n",
       "      <td>The greatest test of courage on earth is to be...</td>\n",
       "      <td>No</td>\n",
       "      <td>No</td>\n",
       "      <td>No</td>\n",
       "    </tr>\n",
       "    <tr>\n",
       "      <th>freq</th>\n",
       "      <td>4842</td>\n",
       "      <td>2</td>\n",
       "      <td>5763</td>\n",
       "      <td>5951</td>\n",
       "      <td>5125</td>\n",
       "    </tr>\n",
       "  </tbody>\n",
       "</table>\n",
       "</div>"
      ],
      "text/plain": [
       "       LABEL                                               TEXT   URL EMAIL  \\\n",
       "count   5970                                               5970  5970  5970   \n",
       "unique     5                                               5949     2     2   \n",
       "top      ham  The greatest test of courage on earth is to be...    No    No   \n",
       "freq    4842                                                  2  5763  5951   \n",
       "\n",
       "       PHONE  \n",
       "count   5970  \n",
       "unique     2  \n",
       "top       No  \n",
       "freq    5125  "
      ]
     },
     "execution_count": 279,
     "metadata": {},
     "output_type": "execute_result"
    }
   ],
   "source": [
    "df.describe()"
   ]
  },
  {
   "cell_type": "code",
   "execution_count": 280,
   "id": "fb405803",
   "metadata": {},
   "outputs": [
    {
     "data": {
      "text/plain": [
       "array(['ham', 'Smishing', 'spam', 'Spam', 'smishing'], dtype=object)"
      ]
     },
     "execution_count": 280,
     "metadata": {},
     "output_type": "execute_result"
    }
   ],
   "source": [
    "df[\"LABEL\"].unique()"
   ]
  },
  {
   "cell_type": "code",
   "execution_count": 281,
   "id": "afa5020f",
   "metadata": {},
   "outputs": [
    {
     "data": {
      "text/plain": [
       "array(['No', 'yes'], dtype=object)"
      ]
     },
     "execution_count": 281,
     "metadata": {},
     "output_type": "execute_result"
    }
   ],
   "source": [
    "df[\"URL\"].unique()"
   ]
  },
  {
   "cell_type": "code",
   "execution_count": 282,
   "id": "553163d8",
   "metadata": {},
   "outputs": [
    {
     "data": {
      "text/plain": [
       "array(['No', 'yes'], dtype=object)"
      ]
     },
     "execution_count": 282,
     "metadata": {},
     "output_type": "execute_result"
    }
   ],
   "source": [
    "df[\"EMAIL\"].unique()"
   ]
  },
  {
   "cell_type": "code",
   "execution_count": 283,
   "id": "6c926aff",
   "metadata": {},
   "outputs": [
    {
     "data": {
      "text/plain": [
       "array(['No', 'yes'], dtype=object)"
      ]
     },
     "execution_count": 283,
     "metadata": {},
     "output_type": "execute_result"
    }
   ],
   "source": [
    "df[\"PHONE\"].unique()"
   ]
  },
  {
   "cell_type": "code",
   "execution_count": 284,
   "id": "e565a2f2",
   "metadata": {},
   "outputs": [
    {
     "data": {
      "text/plain": [
       "17"
      ]
     },
     "execution_count": 284,
     "metadata": {},
     "output_type": "execute_result"
    }
   ],
   "source": [
    "len([x for x in df.duplicated() if x == True])"
   ]
  },
  {
   "cell_type": "code",
   "execution_count": 285,
   "id": "5d9742f4",
   "metadata": {},
   "outputs": [],
   "source": [
    "i = 0\n",
    "index_dup = []\n",
    "for x in df.duplicated():\n",
    "    if x == True:\n",
    "        index_dup.append(i)\n",
    "    i += 1"
   ]
  },
  {
   "cell_type": "code",
   "execution_count": 286,
   "id": "655d6357",
   "metadata": {},
   "outputs": [
    {
     "data": {
      "text/html": [
       "<div>\n",
       "<style scoped>\n",
       "    .dataframe tbody tr th:only-of-type {\n",
       "        vertical-align: middle;\n",
       "    }\n",
       "\n",
       "    .dataframe tbody tr th {\n",
       "        vertical-align: top;\n",
       "    }\n",
       "\n",
       "    .dataframe thead th {\n",
       "        text-align: right;\n",
       "    }\n",
       "</style>\n",
       "<table border=\"1\" class=\"dataframe\">\n",
       "  <thead>\n",
       "    <tr style=\"text-align: right;\">\n",
       "      <th></th>\n",
       "      <th>LABEL</th>\n",
       "      <th>TEXT</th>\n",
       "      <th>URL</th>\n",
       "      <th>EMAIL</th>\n",
       "      <th>PHONE</th>\n",
       "    </tr>\n",
       "  </thead>\n",
       "  <tbody>\n",
       "    <tr>\n",
       "      <th>1350</th>\n",
       "      <td>Smishing</td>\n",
       "      <td>UR GOING 2 BAHAMAS! CallFREEFONE 08081560665 a...</td>\n",
       "      <td>No</td>\n",
       "      <td>No</td>\n",
       "      <td>yes</td>\n",
       "    </tr>\n",
       "    <tr>\n",
       "      <th>1802</th>\n",
       "      <td>Smishing</td>\n",
       "      <td>Someone U know has asked our dating service 2 ...</td>\n",
       "      <td>No</td>\n",
       "      <td>No</td>\n",
       "      <td>yes</td>\n",
       "    </tr>\n",
       "    <tr>\n",
       "      <th>2961</th>\n",
       "      <td>ham</td>\n",
       "      <td>He remains a bro amongst bros</td>\n",
       "      <td>No</td>\n",
       "      <td>No</td>\n",
       "      <td>No</td>\n",
       "    </tr>\n",
       "    <tr>\n",
       "      <th>3690</th>\n",
       "      <td>ham</td>\n",
       "      <td>Reverse is cheating. That is not mathematics.</td>\n",
       "      <td>No</td>\n",
       "      <td>No</td>\n",
       "      <td>No</td>\n",
       "    </tr>\n",
       "    <tr>\n",
       "      <th>3872</th>\n",
       "      <td>ham</td>\n",
       "      <td>The sign of maturity is not when we start sayi...</td>\n",
       "      <td>No</td>\n",
       "      <td>No</td>\n",
       "      <td>No</td>\n",
       "    </tr>\n",
       "    <tr>\n",
       "      <th>3906</th>\n",
       "      <td>Smishing</td>\n",
       "      <td>U have a secret admirer. REVEAL who thinks U R...</td>\n",
       "      <td>No</td>\n",
       "      <td>No</td>\n",
       "      <td>yes</td>\n",
       "    </tr>\n",
       "    <tr>\n",
       "      <th>3907</th>\n",
       "      <td>Smishing</td>\n",
       "      <td>Congrats! 2 mobile 3G Videophones R yours. cal...</td>\n",
       "      <td>No</td>\n",
       "      <td>No</td>\n",
       "      <td>yes</td>\n",
       "    </tr>\n",
       "    <tr>\n",
       "      <th>4140</th>\n",
       "      <td>ham</td>\n",
       "      <td>The greatest test of courage on earth is to be...</td>\n",
       "      <td>No</td>\n",
       "      <td>No</td>\n",
       "      <td>No</td>\n",
       "    </tr>\n",
       "    <tr>\n",
       "      <th>4729</th>\n",
       "      <td>ham</td>\n",
       "      <td>Sorry,in meeting I'll call later</td>\n",
       "      <td>No</td>\n",
       "      <td>No</td>\n",
       "      <td>No</td>\n",
       "    </tr>\n",
       "    <tr>\n",
       "      <th>4925</th>\n",
       "      <td>Smishing</td>\n",
       "      <td>URGENT!! Your 4* Costa Del Sol Holiday or £500...</td>\n",
       "      <td>No</td>\n",
       "      <td>No</td>\n",
       "      <td>yes</td>\n",
       "    </tr>\n",
       "    <tr>\n",
       "      <th>4930</th>\n",
       "      <td>Smishing</td>\n",
       "      <td>U have a secret admirer who is looking 2 make ...</td>\n",
       "      <td>No</td>\n",
       "      <td>No</td>\n",
       "      <td>yes</td>\n",
       "    </tr>\n",
       "    <tr>\n",
       "      <th>5092</th>\n",
       "      <td>ham</td>\n",
       "      <td>Beautiful Truth against Gravity.. Read careful...</td>\n",
       "      <td>No</td>\n",
       "      <td>No</td>\n",
       "      <td>No</td>\n",
       "    </tr>\n",
       "    <tr>\n",
       "      <th>5261</th>\n",
       "      <td>ham</td>\n",
       "      <td>Is there coming friday is leave for pongal?do ...</td>\n",
       "      <td>No</td>\n",
       "      <td>No</td>\n",
       "      <td>No</td>\n",
       "    </tr>\n",
       "    <tr>\n",
       "      <th>5341</th>\n",
       "      <td>ham</td>\n",
       "      <td>Arun can u transfr me d amt</td>\n",
       "      <td>No</td>\n",
       "      <td>No</td>\n",
       "      <td>No</td>\n",
       "    </tr>\n",
       "    <tr>\n",
       "      <th>5629</th>\n",
       "      <td>ham</td>\n",
       "      <td>Do 1 thing! Change that sentence into: \"Becaus...</td>\n",
       "      <td>No</td>\n",
       "      <td>No</td>\n",
       "      <td>No</td>\n",
       "    </tr>\n",
       "    <tr>\n",
       "      <th>5828</th>\n",
       "      <td>Smishing</td>\n",
       "      <td>U 447801259231 have a secret admirer who is lo...</td>\n",
       "      <td>No</td>\n",
       "      <td>No</td>\n",
       "      <td>yes</td>\n",
       "    </tr>\n",
       "    <tr>\n",
       "      <th>5968</th>\n",
       "      <td>ham</td>\n",
       "      <td>The Xmas story is peace.. The Xmas msg is love...</td>\n",
       "      <td>No</td>\n",
       "      <td>No</td>\n",
       "      <td>No</td>\n",
       "    </tr>\n",
       "  </tbody>\n",
       "</table>\n",
       "</div>"
      ],
      "text/plain": [
       "         LABEL                                               TEXT URL EMAIL  \\\n",
       "1350  Smishing  UR GOING 2 BAHAMAS! CallFREEFONE 08081560665 a...  No    No   \n",
       "1802  Smishing  Someone U know has asked our dating service 2 ...  No    No   \n",
       "2961       ham                      He remains a bro amongst bros  No    No   \n",
       "3690       ham      Reverse is cheating. That is not mathematics.  No    No   \n",
       "3872       ham  The sign of maturity is not when we start sayi...  No    No   \n",
       "3906  Smishing  U have a secret admirer. REVEAL who thinks U R...  No    No   \n",
       "3907  Smishing  Congrats! 2 mobile 3G Videophones R yours. cal...  No    No   \n",
       "4140       ham  The greatest test of courage on earth is to be...  No    No   \n",
       "4729       ham                   Sorry,in meeting I'll call later  No    No   \n",
       "4925  Smishing  URGENT!! Your 4* Costa Del Sol Holiday or £500...  No    No   \n",
       "4930  Smishing  U have a secret admirer who is looking 2 make ...  No    No   \n",
       "5092       ham  Beautiful Truth against Gravity.. Read careful...  No    No   \n",
       "5261       ham  Is there coming friday is leave for pongal?do ...  No    No   \n",
       "5341       ham                        Arun can u transfr me d amt  No    No   \n",
       "5629       ham  Do 1 thing! Change that sentence into: \"Becaus...  No    No   \n",
       "5828  Smishing  U 447801259231 have a secret admirer who is lo...  No    No   \n",
       "5968       ham  The Xmas story is peace.. The Xmas msg is love...  No    No   \n",
       "\n",
       "     PHONE  \n",
       "1350   yes  \n",
       "1802   yes  \n",
       "2961    No  \n",
       "3690    No  \n",
       "3872    No  \n",
       "3906   yes  \n",
       "3907   yes  \n",
       "4140    No  \n",
       "4729    No  \n",
       "4925   yes  \n",
       "4930   yes  \n",
       "5092    No  \n",
       "5261    No  \n",
       "5341    No  \n",
       "5629    No  \n",
       "5828   yes  \n",
       "5968    No  "
      ]
     },
     "execution_count": 286,
     "metadata": {},
     "output_type": "execute_result"
    }
   ],
   "source": [
    "df.iloc[index_dup]"
   ]
  },
  {
   "cell_type": "code",
   "execution_count": 287,
   "id": "be9e9fa6",
   "metadata": {},
   "outputs": [
    {
     "data": {
      "text/html": [
       "<div>\n",
       "<style scoped>\n",
       "    .dataframe tbody tr th:only-of-type {\n",
       "        vertical-align: middle;\n",
       "    }\n",
       "\n",
       "    .dataframe tbody tr th {\n",
       "        vertical-align: top;\n",
       "    }\n",
       "\n",
       "    .dataframe thead th {\n",
       "        text-align: right;\n",
       "    }\n",
       "</style>\n",
       "<table border=\"1\" class=\"dataframe\">\n",
       "  <thead>\n",
       "    <tr style=\"text-align: right;\">\n",
       "      <th></th>\n",
       "      <th>LABEL</th>\n",
       "      <th>TEXT</th>\n",
       "      <th>URL</th>\n",
       "      <th>EMAIL</th>\n",
       "      <th>PHONE</th>\n",
       "    </tr>\n",
       "  </thead>\n",
       "  <tbody>\n",
       "    <tr>\n",
       "      <th>415</th>\n",
       "      <td>ham</td>\n",
       "      <td>Sorry,in meeting I'll call later</td>\n",
       "      <td>No</td>\n",
       "      <td>No</td>\n",
       "      <td>No</td>\n",
       "    </tr>\n",
       "    <tr>\n",
       "      <th>4729</th>\n",
       "      <td>ham</td>\n",
       "      <td>Sorry,in meeting I'll call later</td>\n",
       "      <td>No</td>\n",
       "      <td>No</td>\n",
       "      <td>No</td>\n",
       "    </tr>\n",
       "  </tbody>\n",
       "</table>\n",
       "</div>"
      ],
      "text/plain": [
       "     LABEL                              TEXT URL EMAIL PHONE\n",
       "415    ham  Sorry,in meeting I'll call later  No    No    No\n",
       "4729   ham  Sorry,in meeting I'll call later  No    No    No"
      ]
     },
     "execution_count": 287,
     "metadata": {},
     "output_type": "execute_result"
    }
   ],
   "source": [
    "df[df[\"TEXT\"] == \"Sorry,in meeting I'll call later\"]"
   ]
  },
  {
   "cell_type": "code",
   "execution_count": 288,
   "id": "2b19ba01",
   "metadata": {},
   "outputs": [
    {
     "data": {
      "text/html": [
       "<div>\n",
       "<style scoped>\n",
       "    .dataframe tbody tr th:only-of-type {\n",
       "        vertical-align: middle;\n",
       "    }\n",
       "\n",
       "    .dataframe tbody tr th {\n",
       "        vertical-align: top;\n",
       "    }\n",
       "\n",
       "    .dataframe thead th {\n",
       "        text-align: right;\n",
       "    }\n",
       "</style>\n",
       "<table border=\"1\" class=\"dataframe\">\n",
       "  <thead>\n",
       "    <tr style=\"text-align: right;\">\n",
       "      <th></th>\n",
       "      <th>LABEL</th>\n",
       "      <th>TEXT</th>\n",
       "      <th>URL</th>\n",
       "      <th>EMAIL</th>\n",
       "      <th>PHONE</th>\n",
       "    </tr>\n",
       "  </thead>\n",
       "  <tbody>\n",
       "    <tr>\n",
       "      <th>413</th>\n",
       "      <td>ham</td>\n",
       "      <td>Arun can u transfr me d amt</td>\n",
       "      <td>No</td>\n",
       "      <td>No</td>\n",
       "      <td>No</td>\n",
       "    </tr>\n",
       "    <tr>\n",
       "      <th>5341</th>\n",
       "      <td>ham</td>\n",
       "      <td>Arun can u transfr me d amt</td>\n",
       "      <td>No</td>\n",
       "      <td>No</td>\n",
       "      <td>No</td>\n",
       "    </tr>\n",
       "  </tbody>\n",
       "</table>\n",
       "</div>"
      ],
      "text/plain": [
       "     LABEL                         TEXT URL EMAIL PHONE\n",
       "413    ham  Arun can u transfr me d amt  No    No    No\n",
       "5341   ham  Arun can u transfr me d amt  No    No    No"
      ]
     },
     "execution_count": 288,
     "metadata": {},
     "output_type": "execute_result"
    }
   ],
   "source": [
    "df[df[\"TEXT\"] == \"Arun can u transfr me d amt\"]"
   ]
  },
  {
   "cell_type": "markdown",
   "id": "b6c5e22f",
   "metadata": {},
   "source": [
    "# Transformando os dados"
   ]
  },
  {
   "cell_type": "code",
   "execution_count": 289,
   "id": "b9eb7185",
   "metadata": {},
   "outputs": [],
   "source": [
    "df_transformado = df.copy()"
   ]
  },
  {
   "cell_type": "code",
   "execution_count": 290,
   "id": "133454fe",
   "metadata": {},
   "outputs": [
    {
     "name": "stdout",
     "output_type": "stream",
     "text": [
      "<class 'pandas.core.frame.DataFrame'>\n",
      "RangeIndex: 5970 entries, 0 to 5969\n",
      "Data columns (total 5 columns):\n",
      " #   Column  Non-Null Count  Dtype \n",
      "---  ------  --------------  ----- \n",
      " 0   LABEL   5970 non-null   object\n",
      " 1   TEXT    5970 non-null   object\n",
      " 2   URL     5970 non-null   object\n",
      " 3   EMAIL   5970 non-null   object\n",
      " 4   PHONE   5970 non-null   object\n",
      "dtypes: object(5)\n",
      "memory usage: 233.3+ KB\n"
     ]
    }
   ],
   "source": [
    "df_transformado.info()"
   ]
  },
  {
   "cell_type": "code",
   "execution_count": 291,
   "id": "21fdcde6",
   "metadata": {},
   "outputs": [
    {
     "data": {
      "text/plain": [
       "array(['ham', 'Smishing', 'spam', 'Spam', 'smishing'], dtype=object)"
      ]
     },
     "execution_count": 291,
     "metadata": {},
     "output_type": "execute_result"
    }
   ],
   "source": [
    "df_transformado[\"LABEL\"].unique()"
   ]
  },
  {
   "cell_type": "code",
   "execution_count": 292,
   "id": "37c8661c",
   "metadata": {},
   "outputs": [],
   "source": [
    "df_transformado[\"LABEL\"].replace(\"Spam\", \"spam\", inplace=True)\n",
    "df_transformado[\"LABEL\"].replace(\"Smishing\", \"smishing\", inplace=True)\n",
    "df_transformado[\"LABEL\"].replace([\"ham\", \"spam\", \"smishing\"], [-1, 0, 1], inplace=True)"
   ]
  },
  {
   "cell_type": "code",
   "execution_count": 293,
   "id": "01c7aea0",
   "metadata": {},
   "outputs": [],
   "source": [
    "df_transformado[\"URL\"].replace([\"No\", \"yes\"], [0, 1], inplace=True)\n",
    "df_transformado[\"EMAIL\"].replace([\"No\", \"yes\"], [0, 1], inplace=True)\n",
    "df_transformado[\"PHONE\"].replace([\"No\", \"yes\"], [0, 1], inplace=True)"
   ]
  },
  {
   "cell_type": "code",
   "execution_count": 294,
   "id": "ff3838b5",
   "metadata": {},
   "outputs": [
    {
     "data": {
      "text/plain": [
       "array([0, 1])"
      ]
     },
     "metadata": {},
     "output_type": "display_data"
    },
    {
     "data": {
      "text/plain": [
       "array([0, 1])"
      ]
     },
     "metadata": {},
     "output_type": "display_data"
    },
    {
     "data": {
      "text/plain": [
       "array([0, 1])"
      ]
     },
     "metadata": {},
     "output_type": "display_data"
    }
   ],
   "source": [
    "display(df_transformado[\"URL\"].unique())\n",
    "display(df_transformado[\"EMAIL\"].unique())\n",
    "display(df_transformado[\"PHONE\"].unique())"
   ]
  },
  {
   "cell_type": "code",
   "execution_count": 295,
   "id": "d9aa5873-94b4-494d-a33f-0c48fec6b138",
   "metadata": {},
   "outputs": [],
   "source": [
    "df_transformado.drop([\"URL\", \"EMAIL\", \"PHONE\"], axis=1, inplace=True)"
   ]
  },
  {
   "cell_type": "code",
   "execution_count": 296,
   "id": "e6f1fac9",
   "metadata": {},
   "outputs": [
    {
     "data": {
      "text/plain": [
       "20"
      ]
     },
     "execution_count": 296,
     "metadata": {},
     "output_type": "execute_result"
    }
   ],
   "source": [
    "len([x for x in df_transformado.duplicated() if x == True]) ## Ele aumenta por causa do tratamento que se fez para as palvras minusculas"
   ]
  },
  {
   "cell_type": "code",
   "execution_count": 297,
   "id": "8d889ea2",
   "metadata": {},
   "outputs": [],
   "source": [
    "df_transformado.drop_duplicates(inplace=True)"
   ]
  },
  {
   "cell_type": "code",
   "execution_count": 298,
   "id": "ebb1279b",
   "metadata": {},
   "outputs": [
    {
     "data": {
      "text/plain": [
       "5950"
      ]
     },
     "metadata": {},
     "output_type": "display_data"
    },
    {
     "data": {
      "text/plain": [
       "5970"
      ]
     },
     "metadata": {},
     "output_type": "display_data"
    },
    {
     "data": {
      "text/plain": [
       "20"
      ]
     },
     "metadata": {},
     "output_type": "display_data"
    }
   ],
   "source": [
    "display(len(df_transformado))\n",
    "display(len(df))\n",
    "\n",
    "display(len(df) - len(df_transformado))"
   ]
  },
  {
   "cell_type": "code",
   "execution_count": 299,
   "id": "a640fa53",
   "metadata": {},
   "outputs": [],
   "source": [
    "df_transformado.reset_index(drop=True, inplace=True)"
   ]
  },
  {
   "cell_type": "code",
   "execution_count": 300,
   "id": "d7102a98",
   "metadata": {},
   "outputs": [
    {
     "data": {
      "text/html": [
       "<div>\n",
       "<style scoped>\n",
       "    .dataframe tbody tr th:only-of-type {\n",
       "        vertical-align: middle;\n",
       "    }\n",
       "\n",
       "    .dataframe tbody tr th {\n",
       "        vertical-align: top;\n",
       "    }\n",
       "\n",
       "    .dataframe thead th {\n",
       "        text-align: right;\n",
       "    }\n",
       "</style>\n",
       "<table border=\"1\" class=\"dataframe\">\n",
       "  <thead>\n",
       "    <tr style=\"text-align: right;\">\n",
       "      <th></th>\n",
       "      <th>LABEL</th>\n",
       "      <th>TEXT</th>\n",
       "      <th>URL</th>\n",
       "      <th>EMAIL</th>\n",
       "      <th>PHONE</th>\n",
       "    </tr>\n",
       "  </thead>\n",
       "  <tbody>\n",
       "    <tr>\n",
       "      <th>0</th>\n",
       "      <td>ham</td>\n",
       "      <td>Your opinion about me? 1. Over 2. Jada 3. Kusr...</td>\n",
       "      <td>No</td>\n",
       "      <td>No</td>\n",
       "      <td>No</td>\n",
       "    </tr>\n",
       "    <tr>\n",
       "      <th>1</th>\n",
       "      <td>ham</td>\n",
       "      <td>What's up? Do you want me to come online? If y...</td>\n",
       "      <td>No</td>\n",
       "      <td>No</td>\n",
       "      <td>No</td>\n",
       "    </tr>\n",
       "    <tr>\n",
       "      <th>2</th>\n",
       "      <td>ham</td>\n",
       "      <td>So u workin overtime nigpun?</td>\n",
       "      <td>No</td>\n",
       "      <td>No</td>\n",
       "      <td>No</td>\n",
       "    </tr>\n",
       "    <tr>\n",
       "      <th>3</th>\n",
       "      <td>ham</td>\n",
       "      <td>Also sir, i sent you an email about how to log...</td>\n",
       "      <td>No</td>\n",
       "      <td>No</td>\n",
       "      <td>No</td>\n",
       "    </tr>\n",
       "    <tr>\n",
       "      <th>4</th>\n",
       "      <td>Smishing</td>\n",
       "      <td>Please Stay At Home. To encourage the notion o...</td>\n",
       "      <td>No</td>\n",
       "      <td>No</td>\n",
       "      <td>No</td>\n",
       "    </tr>\n",
       "  </tbody>\n",
       "</table>\n",
       "</div>"
      ],
      "text/plain": [
       "      LABEL                                               TEXT URL EMAIL PHONE\n",
       "0       ham  Your opinion about me? 1. Over 2. Jada 3. Kusr...  No    No    No\n",
       "1       ham  What's up? Do you want me to come online? If y...  No    No    No\n",
       "2       ham                       So u workin overtime nigpun?  No    No    No\n",
       "3       ham  Also sir, i sent you an email about how to log...  No    No    No\n",
       "4  Smishing  Please Stay At Home. To encourage the notion o...  No    No    No"
      ]
     },
     "metadata": {},
     "output_type": "display_data"
    },
    {
     "data": {
      "text/html": [
       "<div>\n",
       "<style scoped>\n",
       "    .dataframe tbody tr th:only-of-type {\n",
       "        vertical-align: middle;\n",
       "    }\n",
       "\n",
       "    .dataframe tbody tr th {\n",
       "        vertical-align: top;\n",
       "    }\n",
       "\n",
       "    .dataframe thead th {\n",
       "        text-align: right;\n",
       "    }\n",
       "</style>\n",
       "<table border=\"1\" class=\"dataframe\">\n",
       "  <thead>\n",
       "    <tr style=\"text-align: right;\">\n",
       "      <th></th>\n",
       "      <th>LABEL</th>\n",
       "      <th>TEXT</th>\n",
       "    </tr>\n",
       "  </thead>\n",
       "  <tbody>\n",
       "    <tr>\n",
       "      <th>0</th>\n",
       "      <td>-1</td>\n",
       "      <td>Your opinion about me? 1. Over 2. Jada 3. Kusr...</td>\n",
       "    </tr>\n",
       "    <tr>\n",
       "      <th>1</th>\n",
       "      <td>-1</td>\n",
       "      <td>What's up? Do you want me to come online? If y...</td>\n",
       "    </tr>\n",
       "    <tr>\n",
       "      <th>2</th>\n",
       "      <td>-1</td>\n",
       "      <td>So u workin overtime nigpun?</td>\n",
       "    </tr>\n",
       "    <tr>\n",
       "      <th>3</th>\n",
       "      <td>-1</td>\n",
       "      <td>Also sir, i sent you an email about how to log...</td>\n",
       "    </tr>\n",
       "    <tr>\n",
       "      <th>4</th>\n",
       "      <td>1</td>\n",
       "      <td>Please Stay At Home. To encourage the notion o...</td>\n",
       "    </tr>\n",
       "  </tbody>\n",
       "</table>\n",
       "</div>"
      ],
      "text/plain": [
       "   LABEL                                               TEXT\n",
       "0     -1  Your opinion about me? 1. Over 2. Jada 3. Kusr...\n",
       "1     -1  What's up? Do you want me to come online? If y...\n",
       "2     -1                       So u workin overtime nigpun?\n",
       "3     -1  Also sir, i sent you an email about how to log...\n",
       "4      1  Please Stay At Home. To encourage the notion o..."
      ]
     },
     "metadata": {},
     "output_type": "display_data"
    }
   ],
   "source": [
    "display(df.head())\n",
    "display(df_transformado.head())"
   ]
  },
  {
   "cell_type": "markdown",
   "id": "70ba83a6",
   "metadata": {},
   "source": [
    "# Analisando os dados"
   ]
  },
  {
   "cell_type": "code",
   "execution_count": 301,
   "id": "3c6deb76",
   "metadata": {},
   "outputs": [
    {
     "data": {
      "text/plain": [
       "4832"
      ]
     },
     "metadata": {},
     "output_type": "display_data"
    },
    {
     "data": {
      "text/plain": [
       "489"
      ]
     },
     "metadata": {},
     "output_type": "display_data"
    },
    {
     "data": {
      "text/plain": [
       "629"
      ]
     },
     "metadata": {},
     "output_type": "display_data"
    }
   ],
   "source": [
    "display(len(df_transformado[df_transformado[\"LABEL\"] == -1]))\n",
    "display(len(df_transformado[df_transformado[\"LABEL\"] == 0]))\n",
    "display(len(df_transformado[df_transformado[\"LABEL\"] == 1]))"
   ]
  },
  {
   "cell_type": "markdown",
   "id": "fb06aff3",
   "metadata": {},
   "source": [
    "# NLP"
   ]
  },
  {
   "cell_type": "markdown",
   "id": "dffe3eb5",
   "metadata": {},
   "source": [
    "#### 1500 para treino e o resto para validação"
   ]
  },
  {
   "cell_type": "code",
   "execution_count": 302,
   "id": "c768ed94",
   "metadata": {},
   "outputs": [],
   "source": [
    "#nlp = spacy.load(\"modelo\\en_core_web_trf-3.7.1\\en_core_web_trf\\en_core_web_trf-3.7.1\")\n",
    "nlp = spacy.load(\"en_core_web_trf\")"
   ]
  },
  {
   "cell_type": "code",
   "execution_count": 303,
   "id": "72fc00a5",
   "metadata": {},
   "outputs": [],
   "source": [
    "def remover_stopwords(text):\n",
    "    doc = nlp(text)\n",
    "    frases_sem_stopwords = \" \".join([token.text for token in doc if not token.is_stop])\n",
    "    return frases_sem_stopwords"
   ]
  },
  {
   "cell_type": "code",
   "execution_count": 304,
   "id": "dc08864c-803d-4a8d-8eff-66e4c476dc73",
   "metadata": {},
   "outputs": [],
   "source": [
    "def remover_espacos(text):\n",
    "    frases_sem_espaco_frente = \" \".join(text.split())\n",
    "    return frases_sem_espaco_frente"
   ]
  },
  {
   "cell_type": "code",
   "execution_count": 305,
   "id": "c82a39e9",
   "metadata": {},
   "outputs": [],
   "source": [
    "def remover_caractere_especial(text):\n",
    "    texto_sem_cs = re.sub(r\"ï¿½\", r\"\", text)\n",
    "    texto_sem_cs = re.sub(r\"&lt;([^>]+)&gt;\", r\"\", texto_sem_cs)\n",
    "    texto_sem_cs = re.sub(r\"�\", r\" \", texto_sem_cs)\n",
    "    texto_sem_cs = re.sub(r\"ü\", r\"u\", texto_sem_cs)\n",
    "    texto_sem_cs = re.sub(r\"Ü\", r\"U\", texto_sem_cs)\n",
    "    texto_sem_cs = re.sub(r\"\\(\", r\" \", texto_sem_cs)\n",
    "    texto_sem_cs = re.sub(r\"&amp;\", r\"\", texto_sem_cs)\n",
    "    return texto_sem_cs"
   ]
  },
  {
   "cell_type": "code",
   "execution_count": 306,
   "id": "e8ba7aed",
   "metadata": {},
   "outputs": [],
   "source": [
    "def remover_emoji(text):\n",
    "    text_sem_emoji = re.sub(r\"((:|;)(-){0,1}(\\)|\\())\", f\"\", text)\n",
    "    return text_sem_emoji"
   ]
  },
  {
   "cell_type": "code",
   "execution_count": 307,
   "id": "35f808ef-9d67-47b4-9c0e-71dde0c38ee5",
   "metadata": {},
   "outputs": [],
   "source": [
    "def remover_pontos(text):\n",
    "    doc = nlp(text)\n",
    "    frases_sem_ponto = \" \".join([token.text for token in doc if not token.is_punct]).lower()\n",
    "    return frases_sem_ponto"
   ]
  },
  {
   "cell_type": "code",
   "execution_count": 308,
   "id": "0d75df1c",
   "metadata": {},
   "outputs": [],
   "source": [
    "def lemmatizar(text):\n",
    "    doc = nlp(text)\n",
    "    frases_lematizadas = \" \".join([token.lemma_ for token in doc if not token.is_stop])\n",
    "    return frases_lematizadas"
   ]
  },
  {
   "cell_type": "code",
   "execution_count": 309,
   "id": "5b2d3b0b",
   "metadata": {},
   "outputs": [],
   "source": [
    "def substituir_numero_telefone(text):\n",
    "    texto_com_numero_padronizado = re.sub(r\"((\\d{4}\\s\\d{3}\\s\\d{4})|\\d{10,12})(\\s|$|\\/)\", f\"PH_NUMBER\", text)\n",
    "    return texto_com_numero_padronizado"
   ]
  },
  {
   "cell_type": "code",
   "execution_count": 310,
   "id": "37655d0d",
   "metadata": {},
   "outputs": [],
   "source": [
    "def substituir_email(text):\n",
    "    texto_com_email_padronizado = re.sub(r\"\\S+@\\S+($){0,1}\", f\"EMAIL\", text)\n",
    "    return texto_com_email_padronizado"
   ]
  },
  {
   "cell_type": "code",
   "execution_count": 311,
   "id": "b2ecef33",
   "metadata": {},
   "outputs": [],
   "source": [
    "def pre_processamento(text):\n",
    "    texto_processado = text\n",
    "    print(texto_processado)\n",
    "    texto_processado = remover_emoji(texto_processado)\n",
    "    texto_processado = remover_caractere_especial(texto_processado)\n",
    "    texto_processado = remover_espacos(texto_processado)  \n",
    "    texto_processado = remover_pontos(texto_processado)\n",
    "    texto_processado = substituir_numero_telefone(texto_processado)\n",
    "    texto_processado = substituir_email(texto_processado)\n",
    "    texto_processado = lemmatizar(texto_processado)\n",
    "    print(texto_processado)\n",
    "    return texto_processado"
   ]
  },
  {
   "cell_type": "code",
   "execution_count": 312,
   "id": "3a911e48",
   "metadata": {
    "scrolled": true,
    "tags": []
   },
   "outputs": [
    {
     "name": "stdout",
     "output_type": "stream",
     "text": [
      "Your opinion about me? 1. Over 2. Jada 3. Kusruthi 4. Lovable 5. Silent 6. Spl character 7. Not matured 8. Stylish 9. Simple Pls reply..\n",
      "opinion 1 2 jada 3 kusruthi 4 lovable 5 silent 6 spl character 7 matured 8 stylish 9 simple pl reply\n",
      "What's up? Do you want me to come online? If you are free we can talk sometime�\n"
     ]
    },
    {
     "name": "stdout",
     "output_type": "stream",
     "text": [
      "want come online free talk\n",
      "So u workin overtime nigpun?\n",
      "u workin overtime nigpun\n",
      "Also sir, i sent you an email about how to log into the usc payment portal. I.ll send you another message that should explain how things are back home. Have a great weekend.\n",
      "sir send email log usc payment portal i.ll send message explain thing home great weekend\n",
      "Please Stay At Home. To encourage the notion of staying at home. All tax-paying citizens are entitled to �305.96 or more emergency refund. smsg.io/fCVbD\n",
      "stay home encourage notion stay home tax pay citizen entitle 305.96 emergency refund smsg.io/fcvbd\n",
      "BankOfAmerica Alert 137943. Please follow http://bit.do/cgjK-and re-activate\n",
      "bankofamerica alert 137943 follow http://bit.do/cgjk-and activate\n",
      "Sorry dude. Dont know how i forgot. Even after Dan reminded me. Sorry. Hope you guys had fun.\n",
      "sorry dude not know forget dan remind sorry hope guy fun\n",
      "I don't quite know what to do. I still can't get hold of anyone. I cud pick you up bout 7.30pm and we can see if they're in the pub?\n",
      "know hold cud pick bout 7.30pm pub\n",
      "Ok lor. Anyway i thk we cant get tickets now cos like quite late already. U wan 2 go look 4 ur frens a not? Darren is wif them now...\n",
      "ok lor thk not ticket cos like late u wan 2 look 4 ur fren darren wif\n",
      "Wat r u doing now?\n",
      "wat r u\n",
      "Buy one egg for me da..please:)\n",
      "buy egg da\n",
      "Is there a reason we've not spoken this year? Anyways have a great week and all the best in your exam\n",
      "reason ' ve speak year anyways great week good exam\n",
      "Stop the story. I've told him i've returned it and he's saying i should not re order it.\n",
      "stop story ' ve tell ' ve return say order\n",
      "No. I dont want to hear anything\n",
      "not want hear\n",
      "I'm e person who's doing e sms survey...\n",
      "' m e person e sms survey\n",
      "Mm i had my food da from out\n",
      "mm food da\n",
      "4 tacos + 1 rajas burrito, right?\n",
      "4 taco + 1 rajas burrito right\n",
      "House-Maid is the murderer, coz the man was murdered on  26th January.. \n",
      "house maid murderer coz man murder 26th january\n",
      "Yes! How is a pretty lady like you single?\n",
      "yes pretty lady like single\n",
      "(That said can you text him one more time?)\n",
      "say text time\n",
      "I know she called me\n",
      "know call\n",
      "In sch but neva mind u eat 1st lor..\n",
      "sch neva mind u eat 1st lor\n",
      "lyricalladie(21/F) is inviting you to be her friend. Reply YES-910 or NO-910. See her: www.SMS.ac/u/hmmross STOP? Send STOP FRND to 62468\n",
      "lyricalladie 21 f invite friend reply yes-910 no-910 www.sms.ac/u/hmmross stop send stop frnd 62468\n",
      "Jay says that you're a double-faggot\n",
      "jay say double faggot\n",
      "Ok i thk i got it. Then u wan me 2 come now or wat?\n",
      "ok thk get u wan 2 come wat\n",
      "UR awarded a City Break and could WIN a £200 Summer Shopping spree every WK. Txt STORE to 88039 . SkilGme. TsCs087147403233\n",
      "ur award city break win £ 200 summer shopping spree wk txt store 88039 skilgme tscsph_number\n",
      "Hello from Orange. For 1 month's free access to games, news and sport, plus 10 free texts and 20 photo messages, reply YES. Terms apply: www.orange.co.uk/ow\n",
      "hello orange 1 month free access game news sport plus 10 free text 20 photo message reply yes term apply www.orange.co.uk/ow\n",
      "Whens your radio show?\n",
      "s radio\n",
      "Jane babes not goin 2 wrk, feel ill after lst nite. Foned in already cover 4 me chuck.:-)\n",
      "jane babes goin 2 wrk feel ill lst nite fone cover 4 chuck\n",
      "New Offer! Save upto 40\\% electricity bill with Power Saver(GOVT. LAB TESTED), Rs. 1050/-(free home delivery) 3 Yr. Guarantee Call 9891943823,9891943780\n",
      "new offer save upto 40\\% electricity bill power saver govt lab test r 1050/- free home delivery 3 yr guarantee 9891943823,ph_number\n",
      "What * u wearing?\n",
      "u wear\n",
      "o turns out i had stereo love on mi phone under the unknown album.\n",
      "o turn stereo love mi phone unknown album\n",
      "Ela kano.,il download, come wen ur free..\n",
      "ela kano , il download come wen ur free\n",
      "Haha figures, well I found the piece and priscilla's bowl\n",
      "haha figure find piece priscilla bowl\n",
      "Can you do online transaction?\n",
      "online transaction\n",
      "Ü neva tell me how i noe... I'm not at home in da aft wat...\n",
      "u neva tell noe ' m home da aft wat\n",
      "\tYOU HAVE WON! As a valued Vodafone customer our computer has picked YOU to win a £150 prize. To collect is easy. Just call 09061743386\n",
      "win value vodafone customer computer pick win £ 150 prize collect easy PH_NUMBER\n",
      "You will recieve your tone within the next 24hrs. For Terms and conditions please see Channel U Teletext Pg 750\n",
      "recieve tone 24hr term condition channel u teletext pg 750\n",
      "What you doing?how are you?\n",
      "doing?how\n",
      "I didn't get the second half of that message\n",
      "second half message\n",
      "Phony £350 award - Todays Voda numbers ending XXXX are selected to receive a £350 award. If you have a match please call 08712300220 quoting claim code 3100 standard rates app\n",
      "phony £ 350 award today voda number end xxxx select receive £ 350 award match ph_numberquoting claim code 3100 standard rate app\n",
      "Can help u swoop by picking u up from wherever ur other birds r meeting if u want.\n",
      "help u swoop pick u ur bird r meet u want\n",
      "Ok lor�whats up�\n",
      "ok lor s\n",
      "Hello madam how are you ?\n",
      "hello madam\n",
      "Was actually sleeping and still might when u call back. So a text is gr8. You rock sis. Will send u a text wen i wake.\n",
      "actually sleep u text gr8 rock sis send u text wen wake\n",
      "Good. do you think you could send me some pix? I would love to see your top and bottom...\n",
      "good think send pix love\n",
      "Apple ID: [BUXCX7GBVwWCcOD Final Notification Your Apple 1D is due to expire today. Prevent this by confirming your Apple ID at�http://verifyapple.uk Apple Inc\n",
      "apple d buxcx7gbvwwccod final notification apple 1d expire today prevent confirm apple d http://verifyapple.uk apple inc\n",
      "HEY MATE! HOWS U HONEY?DID U AVE GOOD HOLIDAY? GIMMI DE GOSS!x\n",
      "hey mate s u honey?did u ave good holiday gimmi de goss!x\n",
      "I don't have anybody's number, I still haven't thought up a tactful way to ask alex\n",
      "anybody number think tactful way ask alex\n",
      "I'm taking derek &amp; taylor to walmart, if I'm not back by the time you're done just leave the mouse on my desk and I'll text you when priscilla's ready\n",
      "' m take derek taylor walmart ' m time leave mouse desk text priscilla ready\n",
      "Ok..let me knw\n",
      "ok let knw\n",
      "You are a very very very very bad girl. Or lady.\n",
      "bad girl lady\n",
      "\tTodays Voda numbers ending 7548 are selected to receive a $350 award. If you have a match please call 08712300220 quoting claim code 4041 standard rates app\n",
      "today voda number end 7548 select receive $ 350 award match ph_numberquoting claim code 4041 standard rate app\n",
      "K then 2marrow are you coming to class.\n",
      "k 2marrow come class\n",
      "Kallis wont bat in 2nd innings.\n",
      "kallis will not bat 2nd innings\n",
      "Meeting u is my work. . . Tel me when shall i do my work tomorrow�.That is what matters�\n",
      "meet u work tel shall work tomorrow .that matter\n",
      "Overcome programming challenges for multicore and learn the techniques to scale reliability. Attend Intel session at 3.45 PM at Microsoft Community TechDays\n",
      "overcome programming challenge multicore learn technique scale reliability attend intel session 3.45 pm microsoft community techdays\n",
      "Haha, my legs and neck are killing me and my amigos are hoping to end the night with a burn, think I could swing by in like an hour?\n",
      "haha leg neck kill amigo hope end night burn think swing like hour\n",
      "Every day i use to sleep after  &lt;#&gt;  so only.\n",
      "day use sleep\n",
      "Sorry, have urgent work..\n",
      "sorry urgent work\n",
      "Good Morning plz call me sir..I have an urgent work..\n",
      "good morning plz sir urgent work\n",
      "Oh shut it. Omg yesterday I had a dream that I had 2 kids both boys. I was so pissed. Not only about the kids but them being boys. I even told mark in my dream that he was changing diapers cause I'm not getting owed in the face.\n",
      "oh shut omg yesterday dream 2 kid boy pissed kid boy tell mark dream change diaper cause ' m getting owe face\n",
      "Ahhhh...just woken up!had a bad dream about u tho,so i dont like u right now :) i didnt know anything about comedy night but i guess im up for it.\n",
      "ahhhh wake up!had bad dream u tho not like u right not know comedy night guess m\n",
      "Its hard to believe things like this. All can say lie but think twice before saying anything to me.\n",
      "hard believe thing like lie think twice say\n",
      "Wow didn't think it was that common. I take it all back ur not a freak! Unless u chop it off:-)\n",
      "wow think common ur freak u chop\n",
      "\t5 Free Top Polyphonic Tones call 087018728737, National Rate. Get a toppoly tune sent every week, just text SUBPOLY to 81618, £3 per pole. UnSub 08718727870.\n",
      "5 free polyphonic tone PH_NUMBERnational rate toppoly tune send week text subpoly 81618 £ 3 pole unsub ph_number\n",
      "Yup he msg me: is tat yijue? Then i tot it's my group mate cos we meeting today mah... I'm askin if ü leaving earlier or wat mah cos mayb ü haf to walk v far...\n",
      "yup msg tat yijue tot group mate cos meeting today mah ' m askin u leave early wat mah cos mayb u haf walk v far\n",
      "You need to get up. Now.\n",
      "need\n",
      "\tYou have an important customer service announcement. Call FREEPHONE 0800 542 0825 now!\n",
      "important customer service announcement freephone ph_numbernow\n",
      "Howz pain?hope u r fine..\n",
      "howz pain?hope u r fine\n",
      "Love it! The girls at the office may wonder why you are smiling but sore...\n",
      "love girl office wonder smile sore\n",
      "\t<Forwarded from 448712404000>Please CALL 08712404000 immediately as there is an urgent message waiting for you.\n",
      "< forward ph_number > PH_NUMBERimmediately urgent message wait\n",
      "it's still not working. And this time i also tried adding zeros. That was the savings. The checking is  &lt;#&gt;\n",
      "work time try add zero savings checking\n",
      "how's things? Just a quick question.\n",
      "thing quick question\n",
      "Die... I accidentally deleted e msg i suppose 2 put in e sim archive. Haiz... I so sad...\n",
      "die accidentally delete e msg suppose 2 e sim archive haiz sad\n",
      "no, i *didn't* mean to post it. I wrote it, and like so many other times i've ritten stuff to you, i let it sit there. it WAS what i was feeling at the time. I was angry. Before i left, i hit send, then stop. It wasn't there. I checked on my phone when i got to my car. It wasn't there. You said you didn't sleep, you were bored. So why wouldn't THAT be the time to clean, fold laundry, etc.? At least make the bed?\n",
      "mean post write like time ' ve ritten stuff let sit feel time angry leave hit send stop check phone get car say sleep bored time clean fold laundry etc bed\n",
      "Sorry i missed your call. Can you please call back.\n",
      "sorry miss\n",
      "How are you. Its been ages. How's abj\n",
      "age abj\n",
      "As if i wasn't having enough trouble sleeping.\n",
      "have trouble sleep\n",
      "Hello. They are going to the village pub at 8 so either come here or there accordingly. Ok?\n",
      "hello go village pub 8 come accordingly ok\n",
      "Thnx dude. u guys out 2nite?\n",
      "thnx dude u guy 2nite\n",
      "Noida Commercial Wave Sec-18  Silver @ 11500/- PSF  Gold @ 12500/- PSF,  Logix Sec-124 @ 8200/- PSF For Best Deal Call 9711131802 /3\n",
      "noida commercial wave sec-18 silver 11500/- psf gold 12500/- psf logix sec-124 8200/- psf good deal PH_NUMBER/3\n",
      "So are you guys asking that i get that slippers again or its gone with last year\n",
      "guy ask slipper go year\n",
      "U guys never invite me anywhere :(\n",
      "u guy invite\n",
      "HMV BONUS SPECIAL 500 pounds of genuine HMV vouchers to be won. Just answer 4 easy questions. Send HMV to 86688 More info:www.100percent-real.com\n",
      "hmv bonus special 500 pound genuine hmv voucher win answer 4 easy question send hmv 86688 info www.100percent real.com\n",
      "My computer just fried the only essential part we don't keep spares of because my idiot roommates looovvve leaving the thing running on full  &lt;#&gt; /7\n",
      "computer fry essential spare idiot roommate looovvve leave thing run /7\n",
      "Hey sexy buns ! Have I told you ? I adore you, loverboy. I hope you remember to thank your sister in law for those meatballs *grins* ... i love you, babe\n",
      "hey sexy bun tell adore loverboy hope remember thank sister law meatballs grins love babe\n",
      "Welcome to UK-mobile-date this msg is FREE giving you free calling to 08719839835. Future mgs billed at 150p daily. To cancel send \"go stop\" to 89123\n",
      "welcome uk mobile date msg free give free calling PH_NUMBERfuture mg bill 150p daily cancel send stop 89123\n",
      "Velly good, yes please!\n",
      "velly good yes\n",
      "By march ending, i should be ready. But will call you for sure. The problem is that my capital never complete. How far with you. How's work and the ladies\n",
      "march ending ready sure problem capital complete far work lady\n",
      "You have won a guaranteed £200 award or even £1000 cashto claim UR award call free on 08000407166 (18+) 2 stop getstop on 88333 PHP\n",
      "win guarantee £ 200 award £ 1000 cashto claim ur award free ph_number18 + 2 stop getstop 88333 php\n",
      "Jokin only lar... :-) depends on which phone my father can get lor...\n",
      "jokin lar depend phone father lor\n",
      "I thought slide is enough.\n",
      "think slide\n",
      "IM GONNAMISSU SO MUCH!!I WOULD SAY IL SEND U A POSTCARD BUTTHERES ABOUTAS MUCH CHANCE OF MEREMEMBERIN ASTHERE IS OFSI NOT BREAKIN HIS CONTRACT!! LUV Yaxx\n",
      "m gonnamissu much!!i il send u postcard buttheres aboutas chance merememberin asthere ofsi breakin contract luv yaxx\n",
      "Dude we should go sup again\n",
      "dude sup\n",
      "You are being contacted by our dating service by someone you know! To find out who it is, call from a land line 09050000928. PoBox45W2TG150P\n",
      "contact dating service know find land line ph_numberpobox45w2tg150p\n",
      "Shopping lor. Them raining mah hard 2 leave orchard.\n",
      "shop lor rain mah hard 2 leave orchard\n",
      "What's up my own oga. Left my phone at home and just saw ur messages. Hope you are good. Have a great weekend.\n",
      "oga leave phone home see ur message hope good great weekend\n",
      "Need a coffee run tomo?Can't believe it's that time of week already\n",
      "need coffee run tomo?can't believe time week\n",
      "Oooh bed ridden ey? What are YOU thinking of?\n",
      "oooh bed ridden ey think\n",
      "Ok not a problem will get them a taxi. C ing  tomorrow and tuesday. On tuesday think we r all going to the cinema.\n",
      "ok problem taxi c e tomorrow tuesday tuesday think r go cinema\n",
      "Ok... C ya...\n",
      "ok c ya\n",
      "Are you this much buzy�.I don�t think so\n",
      "buzy .i don t think\n",
      "ASKED 3MOBILE IF 0870 CHATLINES INCLU IN FREE MINS. INDIA CUST SERVs SED YES. L8ER GOT MEGA BILL. 3 DONT GIV A SHIT. BAILIFF DUE IN DAYS. I O £250 3 WANT £800\n",
      "ask 3mobile 0870 chatline inclu free min india cust servs sed yes l8er got mega bill 3 nt giv shit bailiff day o £ 250 3 want £ 800\n",
      "Please give it 2  or i will pick it up on Tuesday evening about 8 if that is ok.\n",
      "2 pick tuesday evening 8 ok\n",
      "I was up all night too worrying about this appt. It's a shame we missed a girls night out with quizzes popcorn and you doing my hair.\n",
      "night worry appt shame miss girl night quiz popcorn hair\n",
      "Ha ha ha good joke. Girls are situation seekers.\n",
      "ha ha ha good joke girl situation seeker\n",
      "Sir, i am waiting for your call.\n",
      "sir wait\n",
      "Yay! You better not have told that to 5 other girls either.\n",
      "yay well tell 5 girl\n",
      "But i'll b going 2 sch on mon. My sis need 2 take smth.\n",
      "b go 2 sch mon sis need 2 smth\n",
      "Yo theres no class tmrw right?\n",
      "yo s class tmrw right\n",
      "My painful personal thought- \"I always try to keep everybody happy all the time. But nobody recognises me when i am alone\"\n",
      "painful personal thought- try everybody happy time recognise\n",
      "RCT' THNQ Adrian for U text. Rgds Vatian\n",
      "rct thnq adrian u text rgd vatian\n",
      "Not sure I have the stomach for it ...\n",
      "sure stomach\n",
      "This is the 2nd time we have tried 2 contact u. U have won the 750 Pound prize. 2 claim is easy, call 08712101359 NOW! Only 10p per min. BT-national-rate\n",
      "2nd time try 2 contact u. u win 750 pound prize 2 claim easy ph_numbernow 10p min bt national rate\n",
      "\tEnjoy the jamster videosound gold club with your credits for 2 new videosounds+2 logos+musicnews! get more fun from jamster.co.uk! 16+only Help? call: 09701213186\n",
      "enjoy jamster videosound gold club credit 2 new videosounds+2 logos+musicnews fun jamster.co.uk 16+only help PH_NUMBER\n",
      "I'll let you know when it kicks in\n",
      "let know kick\n",
      "Yup, no need. I'll jus wait 4 e rain 2 stop.\n",
      "yup need jus wait 4 e rain 2 stop\n",
      "Ever thought about living a good life with a perfect partner? Just txt back NAME and AGE to join the mobile community. (100p/SMS)\n",
      "think live good life perfect partner txt age join mobile community 100p sms\n",
      "Dear PAYTM customer your Paytm KYC has expired. Contact customer care No-6200992462 immediately. your account will Block within 24 hr. Thank you PAYTM TEAM.\n",
      "dear paytm customer paytm kyc expire contact customer care - ph_numberimmediately account block 24 hr thank paytm team\n",
      "0A$NETWORKS allow companies to bill for SMS, so they are responsible for their \"suppliers\", just as a shop has to give a guarantee on what they sell. B. G.\n",
      "0a$network allow company bill sms responsible supplier shop guarantee sell b. g.\n",
      "Not planned yet :)going to join company on jan 5 only.don know what will happen after that.\n",
      "plan go join company jan 5 only.don know happen\n",
      "Arms fine, how's Cardiff and uni? \n",
      "arms fine cardiff uni\n",
      "oor Step Service for Passport Assistance/PAN Card/Income Tax Return/VAT Return/Service Tax Return Contact M/s ONS 9650669988 Jwala Heri Mkt Paschim Viha\n",
      "oor step service passport assistance pan card income tax return vat return service tax return contact m s on PH_NUMBERjwala heri mkt paschim viha\n",
      "I'm really sorry i won't b able 2 do this friday.hope u can find an alternative.hope yr term's going ok:-)\n",
      "' m sorry will b able 2 friday.hope u find alternative.hope yr term go ok\n",
      "Ok then i will come to ur home after half an hour\n",
      "ok come ur home half hour\n",
      "ITS A LAPTOP TAKE IT WITH YOU.\n",
      "laptop\n",
      "S.i think he is waste for rr..\n",
      "s.i think waste rr\n",
      "Anyway seriously hit me up when you're back because otherwise I have to light up with armand and he always has shit and/or is vomiting\n",
      "seriously hit light armand shit and/or vomit\n",
      "PL: Battle Royale! Gilchrist Vs Warne today at 8PM. Click http://ipl.onmix.mobi/?src=504 for IPL on mobile. To stop MIX alerts click http://onmix.mobi/alert\n",
      "pl battle royale gilchrist vs warne today 8 pm click http://ipl.onmix.mobi/?src=504 ipl mobile stop mix alert click http://onmix.mobi/alert\n",
      "Dun need to use dial up juz open da browser n surf...\n",
      "dun need use dial juz open da browser n surf\n",
      "You call him and tell now infront of them. Call him now.\n",
      "tell infront\n",
      "New Theory: Argument wins d SITUATION, but loses the PERSON. So dont argue with ur friends just.. . . . kick them &amp; say, I'm always correct.!\n",
      "new theory argument win d situation lose person not argue ur friend kick ' m correct\n",
      "I noe la... U wana pei bf oso rite... K lor, other days den...\n",
      "noe la u wana pei bf oso rite k lor day den\n",
      "Hey you gave them your photo when you registered for driving ah? Tmr wanna meet at yck?\n",
      "hey give photo register driving ah tmr wanna meet yck\n",
      "And by when you're done I mean now\n",
      "mean\n",
      "I dont want to hear anything\n",
      "not want hear\n",
      "Kind of. Took it to garage. Centre part of exhaust needs replacing. Part ordered n taking it to be fixed tomo morning.\n",
      "kind take garage centre exhaust need replacing order n take fix tomo morning\n",
      "FreeMsg Hey U, i just got 1 of these video/pic fones, reply WILD to this txt & ill send U my pics, hurry up Im so bored at work xxx (18 150p/rcvd STOP2stop)\n",
      "freemsg hey u get 1 video pic fone reply wild txt ill send u pic hurry m bored work xxx 18 150p rcvd stop2stop\n",
      "[…] anyway, many good evenings to u! s\n",
      "good evening u s\n",
      "EY! CALM DOWNON THEACUSATIONS.. ITXT U COS IWANA KNOW WOTU R DOIN AT THEW/END... HAVENTCN U IN AGES..RING ME IF UR UP4 NETHING SAT.LOVE J XXX.\n",
      "ey calm downon theacusation itxt u cos iwana know wotu r doin thew end haventcn u age ring ur up4 nething sat.love j xxx\n",
      "Ü takin linear algebra today?\n",
      "u takin linear algebra today\n",
      "Jan is fast approaching. So, Wish u a very Happy New Year Happy Sankranti Happy republic day Happy Valentines Day Happy Shivratri Happy Ugadi Happy Fools day Happy May Day Happy Independence Day, Happy Friendship,Mother,Father,Teachers,Childrens Day, &amp; HAPPY BIRTHDAY 4 U. Happy Ganesh festival Happy Dasara Happy Diwali Happy Christmas  &lt;#&gt;  Good Mornings Afternoons, Evenings Nights. RememberI AM the first to WISHING U ALL THESE...your's Raj\n",
      "jan fast approach wish u happy new year happy sankranti happy republic day happy valentines day happy shivratri happy ugadi happy fools day happy day happy independence day happy friendship mother father teachers childrens day happy birthday 4 u. happy ganesh festival happy dasara happy diwali happy christmas good morning afternoon evening night rememberi wish u raj\n",
      "Really... I tot ur paper ended long ago... But wat u copied jus now got use? U happy lar... I still haf 2 study :-(\n",
      "tot ur paper end long ago wat u copy jus get use u happy lar haf 2 study\n",
      "Jus finish bathing...\n",
      "jus finish bathe\n",
      "I think your mentor is , but not 100 percent sure.\n",
      "think mentor 100 percent sure\n",
      "is your hamster dead? Hey so tmr i meet you at 1pm orchard mrt?\n",
      "hamster dead hey tmr meet 1 pm orchard mrt\n",
      "Ok set let u noe e details later...\n",
      "ok set let u noe e detail later\n",
      "Hope this text meets you smiling. If not then let this text give you a reason to smile. Have a beautiful day.\n",
      "hope text meet smile let text reason smile beautiful day\n",
      "Ok..lets find out�\n",
      "ok lets find\n",
      "You busy or can I come by at some point and figure out what we're doing tomorrow\n",
      "busy come point figure tomorrow\n",
      "Thats cool. I want to please you...\n",
      "s cool want\n",
      "May i call You later Pls\n",
      "later pls\n",
      "\tPlease CALL 08712402779 immediately as there is an urgent message waiting for you\n",
      "PH_NUMBERimmediately urgent message wait\n",
      "Text82228>> Get more ringtones, logos and games from www.txt82228.com. Questions: info@txt82228.co.uk\n",
      "text82228 > > ringtone logo game www.txt82228.com question email\n",
      "My mobile number.pls sms ur mail id.convey regards to achan,amma.Rakhesh.Qatar\n",
      "mobile number.pls sm ur mail id.convey regard achan amma rakhesh qatar\n",
      "Good Morning plz call me sir\n",
      "good morning plz sir\n",
      "Lol alright i was thinkin that too haha\n",
      "lol alright thinkin haha\n",
      "87077: Kick off a new season with 2wks FREE goals & news to ur mobile! Txt ur club name to 87077 eg VILLA to 87077\n",
      "87077 kick new season 2wk free goal news ur mobile txt ur club 87077 eg villa 87077\n",
      "Ok pa. Nothing problem:-)\n",
      "ok pa problem\n",
      "Alright omw, gotta change my order to a half8th\n",
      "alright omw got to change order half8th\n",
      "Sorry about that this is my mates phone and i didnt write it love Kate\n",
      "sorry mates phone not write love kate\n",
      "Aight, see you in a bit\n",
      "aight bit\n",
      "I don't know u and u don't know me. Send CHAT to 86688 now and let's find each other! Only 150p/Msg rcvd. HG/Suite342/2Lands/Row/W1J6HL LDN. 18 years or over.\n",
      "know u u know send chat 86688 let find 150p msg rcvd hg suite342/2lands row w1j6hl ldn 18 year\n",
      "Plots available at greater noida near pari chowk, regn ok. @ 2600/-per gauge.booking  starts with 30000/-onwards or full down.instalments also.call 9213241451.\n",
      "plot available greater noida near pari chowk regn ok 2600/-per gauge.booking start 30000/-onward down.instalment also.call PH_NUMBER\n",
      "JUSWOKE UP IN A BED ON A BOATIN THE DOCKS. SLEPT WID 25 YEAR OLD. SPINOUT! GIV U DA GOSSIP L8R. XXX\n",
      "juswoke bed boatin dock sleep wid 25 year old spinout giv u da gossip l8r . xxx\n",
      "Actually , just do whatever, do find an excuse to be in tampa at some point before january though\n",
      "actually find excuse tampa point january\n",
      "Dear customer, Due to BVN system upgrade your ATM CARD has been De-activated, to re-activate, kindly call customer care on 08065635084 for help.\n",
      "dear customer bvn system upgrade atm card de activate activate kindly customer care ph_numberfor help\n",
      "Yup... Hey then one day on fri we can ask miwa and jiayin take leave go karaoke\n",
      "yup hey day fri ask miwa jiayin leave karaoke\n",
      "Yes! I am a one woman man! Please tell me your likes and dislikes in bed...\n",
      "yes woman man tell like dislike bed\n",
      "Are you at work right now ?\n",
      "work right\n",
      "\tYou have 1 new voicemail. Please call 0871918154.\n",
      "1 new voicemail PH_NUMBER\n",
      "At 4. Let's go to bill millers\n",
      "4 let bill millers\n",
      "Hi, wkend ok but journey terrible. Wk not good as have huge back log of marking to do\n",
      "hi wkend ok journey terrible wk good huge log marking\n",
      "K..u also dont msg or reply to his msg..\n",
      "k u not msg reply msg\n",
      "If india win or level series means this is record:)\n",
      "india win level series mean record\n",
      "Living is very simple.. Loving is also simple.. Laughing is too simple.. Winning is tooo simple.. But, Being 'SIMPLE' is very difficult...;-) :-)\n",
      "live simple love simple laughing simple win tooo simple simple difficult\n",
      "Wot u up 2 u weirdo?\n",
      "wot u 2 u weirdo\n",
      "\tWant a new Video Phone? 750 anytime any network mins? Half price line rental free text for 3 months? Reply or call 08000930705 for free delivery\n",
      "want new video phone 750 anytime network mins half price line rental free text 3 month reply ph_numberfor free delivery\n",
      "Sometimes Heart Remembrs someone Very much... Forgets someone soon... Bcoz Heart will not like everyone. But liked ones will be Remembered Everytime... BSLVYL\n",
      "heart remembr forget soon bcoz heart like liked one remember everytime bslvyl\n",
      "Hmmm.but you should give it on one day..\n",
      "hmmm.but day\n",
      "U have a secret admirer. REVEAL who thinks U R So special. Call 09065174042. To opt out Reply REVEAL STOP. 1.50 per msg recd. Cust care 07821230901\n",
      "u secret admirer reveal think u r special ph_numberto opt reply reveal stop 1.50 msg recd cust care ph_number\n",
      "Just do what ever is easier for you\n",
      "easy\n",
      "And whenever you and i see we can still hook up too.\n",
      "hook\n",
      "U R entitled to Update to the latest colour mobiles with camera for Free! Call The Mobile Update Co FREE on 08002986030\n",
      "u r entitle update late colour mobile camera free mobile update co free PH_NUMBER\n",
      "Here is your discount code RP176781. To stop further messages reply stop. www.regalportfolio.co.uk. Customer Services 08717205546\n",
      "discount code rp176781 stop message reply stop www.regalportfolio.co.uk customer service ph_number\n",
      "I attended but nothing is there.\n",
      "attend\n",
      "\tWe tried to contact you re your reply to our offer of 750 mins 150 textand a new video phone call 08002988890 now or reply for free delivery tomorrow\n",
      "try contact reply offer 750 min 150 textand new video phone ph_numbernow reply free delivery tomorrow\n",
      "hey, looks like I was wrong and one of the kappa guys numbers is still on my phone, if you want I can text him and see if he's around\n",
      "hey look like wrong kappa guys number phone want text\n",
      "8 at the latest, g's still there if you can scrounge up some ammo and want to give the new ak a try\n",
      "8 late g scrounge ammo want new ak try\n",
      "Good morning pookie pie! Lol hope I didn't wake u up\n",
      "good morning pookie pie lol hope wake u\n",
      "Congratulations ur awarded either £500 of CD gift vouchers & Free entry 2 our £100 weekly draw txt MUSIC to 87066 TnCs www.Ldew.com\n",
      "congratulation ur award £ 500 cd gift voucher free entry 2 £ 100 weekly draw txt music 87066 tnc www.ldew.com\n",
      "Do you know where my lab goggles went\n",
      "know lab goggle go\n",
      "FREE2DAY sexy St George's Day pic of Jordan!Txt PIC to 89080 dont miss out, PocketBabe.co.uk 0870241182716 \n",
      "free2day sexy st george day pic jordan!txt pic 89080 not miss pocketbabe.co.uk 0ph_number\n",
      "I hope your alright babe? I worry that you might have felt a bit desparate when you learned the job was a fake ? I am here waiting when you come back, my love\n",
      "hope alright babe worry feel bit desparate learn job fake wait come love\n",
      "Is fujitsu s series lifebook good?\n",
      "fujitsu s series lifebook good\n",
      "Does uncle timi help in clearing cars\n",
      "uncle timi help clear car\n",
      "Greetings me, ! Consider yourself excused.\n",
      "greetings consider excuse\n",
      "Tunde, how are you doing. This is just wishing you a great day. Abiola.\n",
      "tunde wish great day abiola\n",
      "Hahaha..use your brain dear..that will work here�\n",
      "hahaha use brain dear work\n",
      "HI DARLIN IVE JUST GOT BACK AND I HAD A REALLY NICE NIGHT AND THANKS SO MUCH FOR THE LIFT SEE U TOMORROW XXX\n",
      "hi darlin ve get nice night thank lift u tomorrow xxx\n",
      "URGENT! Your Mobile No. was awarded £2000 Bonus Caller Prize on 5/9/03 This is our final try to contact U! Call from Landline 09064019788 BOX42WR29C, 150PPM\n",
      "urgent mobile award £ 2000 bonus caller prize 5/9/03 final try contact u landline ph_numberbox42wr29c 150ppm\n",
      "Ill be there on  &lt;#&gt;  ok.\n",
      "ill ok\n",
      "Then she buying today? Ü no need to c meh...\n",
      "buy today u need c meh\n",
      "Babe ? I lost you ... Will you try rebooting ?\n",
      "babe lose try reboot\n",
      "U have a secret admirer who is looking 2 make contact with U-find out who they R*reveal who thinks UR so special-call on 09058094565\n",
      "u secret admirer look 2 contact u find r*reveal think ur special PH_NUMBER\n",
      "I'm ok wif it cos i like 2 try new things. But i scared u dun like mah. Cos u said not too loud.\n",
      "' m ok wif cos like 2 try new thing scare u dun like mah cos u say loud\n",
      "I thk u dun haf 2 hint in e forum already lor... Cos i told ron n darren is going 2 tell shuhui.\n",
      "thk u dun haf 2 hint e forum lor cos tell ron n darren go 2 tell shuhui\n",
      "Hey... Very inconvenient for your sis a not huh?\n",
      "hey inconvenient sis huh\n",
      "Busy here. Trying to finish for new year. I am looking forward to finally meeting you...\n",
      "busy try finish new year look forward finally meet\n",
      "Oic cos me n my sis got no lunch today my dad went out... So dunno whether 2 eat in sch or wat...\n",
      "oic cos n sis get lunch today dad go dunno 2 eat sch wat\n",
      "\tFREE entry into our £250 weekly comp just send the word ENTER to 84128 NOW. 18 T&C www.textcomp.com cust care 08712405020.\n"
     ]
    }
   ],
   "source": [
    "df_transformado[\"PROCESSED_TEXT\"] = df_transformado[\"TEXT\"].apply(pre_processamento)"
   ]
  },
  {
   "cell_type": "code",
   "execution_count": null,
   "id": "2d950f48",
   "metadata": {
    "scrolled": true,
    "tags": []
   },
   "outputs": [
    {
     "name": "stdout",
     "output_type": "stream",
     "text": [
      "0\n",
      "Dear 0776xxxxxxx U've been invited to XCHAT. This is our final attempt to contact u! Txt CHAT to 86688 150p/MsgrcvdHG/Suite342/2Lands/Row/W1J6HL LDN 18yrs\n",
      "dear 0776xxxxxxx u've invite xchat final attempt contact u txt chat 86688 150p msgrcvdhg suite342/2lands row w1j6hl ldn 18yrs\n",
      "1\n",
      "URGENT! You have won a 1 week FREE membership in our £100,000 Prize Jackpot! Txt the word: CLAIM to No: 81010 T&C www.dbuk.net LCCLTD POBOX 4403LDNW1A7RW18\n",
      "urgent win 1 week free membership £ 100,000 prize jackpot txt word claim 81010 t&c www.dbuk.net lccltd pobox 4403ldnw1a7rw18\n",
      "1\n",
      "\tFREE MESSAGE Activate your 500 FREE Text Messages by replying to this message with the word FEE, visit www.07781482378.com\n",
      "free message activate 500 free text message reply message word fee visit www.07781482378.com\n",
      "0\n",
      "Free tones Hope you enjoyed your new content. text stop to 61610 to unsubscribe. help:08712400602450p Provided by tones2you.co.uk\n",
      "free tones hope enjoy new content text stop 61610 unsubscribe help:08712400602450p provide tones2you.co.uk\n",
      "0\n",
      "Free entry in 2 a wkly comp to win FA Cup final tkts 21st May 2005. Text FA to 87121 to receive entry question(std txt rate)T&C's apply 08452810075over18's\n",
      "free entry 2 wkly comp win fa cup final tkts 21st 2005 text fa 87121 receive entry question std txt rate)t&c apply 08452810075over18\n",
      "0\n",
      "FREE RING TONE just text \"POLYS\" to 87131. Then every week get a new tone. 0870737910216yrs only £1.50/wk.\n",
      "free ring tone text poly 87131 week new tone 0870737910216yrs £ 1.50 wk\n",
      "1\n",
      "FREE MESSAGE Activate your 500 FREE Text Messages by replying to this message with the word FREE For terms & conditions, visit www.07781482378.com\n",
      "free message activate 500 free text message reply message word free term condition visit www.07781482378.com\n",
      "0\n",
      "\thttp//tms. widelive.com/index. wml?id=820554ad0a1705572711&first=true¡C C Ringtone¡\n",
      "http//tms widelive.com/index wml?id=820554ad0a1705572711&first = true¡c c ringtone\n",
      "1\n",
      "\tFREE MESSAGE Activate your 500 FREE Text Messages by replying to this message with the word FREE For terms & conditions, visit www.07781482378.com\n",
      "free message activate 500 free text message reply message word free term condition visit www.07781482378.com\n",
      "1\n",
      "Guess what! Somebody you know secretly fancies you! Wanna find out who it is? Give us a call on 09065394973 from Landline DATEBox1282EssexCM61XN 150p/min 18\n",
      "guess somebody know secretly fancy wanna find ph_numberfrom landline datebox1282essexcm61xn 150p min 18\n",
      "0\n",
      "GSOH? Good with the ladies?U could b a male gigolo? 2 join the uk's fastest growing mens club reply ONCALL. mjzgroup. 08714342399.2stop reply STOP. msg@£1.50rcvd\n",
      "gsoh good ladies?u b male gigolo 2 join uk fast grow mens club reply oncall mjzgroup 08714342399.2stop reply stop email\n",
      "1\n",
      "500 New Mobiles from 2004, MUST GO! Txt: NOKIA to No: 89545 & collect yours today!From ONLY £1 www.4-tc.biz 2optout 087187262701.50gbp/mtmsg18\n",
      "500 new mobile 2004 txt nokia 89545 collect today!from £ 1 www.4-tc.biz 2optout 087187262701.50gbp mtmsg18\n",
      "1\n",
      "URGENT! This is the 2nd attempt to contact U!U have WON £1250 CALL 09071512433 b4 050703 T&CsBCM4235WC1N3XX. callcost 150ppm mobilesvary. max£7. 50\n",
      "urgent 2nd attempt contact u!u win £ 1250 ph_numberb4 050703 t&csbcm4235wc1n3xx callcost 150ppm mobilesvary max£7 50\n",
      "0\n",
      "Spook up your mob with a Halloween collection of a logo & pic message plus a free eerie tone, txt CARD SPOOK to 8007 zed 08701417012150p per logo/pic \n",
      "spook mob halloween collection logo pic message plus free eerie tone txt card spook 8007 zed 08701417012150p logo pic\n",
      "1\n",
      "Local Covid19 Study: Compensation up to $1,220! Qualify Here:1200cash4study1.com/\n",
      "local covid19 study compensation $ 1,220 qualify here:1200cash4study1.com/\n",
      "1\n",
      "U have a Secret Admirer who is looking 2 make contact with U-find out who they R*reveal who thinks UR so special-call on 09065171142-stopsms-08718727870150ppm\n",
      "u secret admirer look 2 contact u find r*reveal think ur special ph_numberstopsms-08718727870150ppm\n",
      "1\n",
      "u r a winner U ave been specially selected 2 receive £1000 cash or a 4* holiday (flights inc) speak to a live operator 2 claim 0871277810710p/min (18 )\n",
      "u r winner u ave specially select 2 receive £ 1000 cash 4 holiday flight inc speak live operator 2 claim 0871277810710p min 18\n",
      "1\n",
      "Reply with your name and address and YOU WILL RECEIVE BY POST a weeks completely free accommodation at various global locations www.phb1.com ph:08700435505150p\n",
      "reply address receive post weeks completely free accommodation global location www.phb1.com ph:08700435505150p\n",
      "1\n",
      "\tU have a Secret Admirer who is looking 2 make contact with U-find out who they R*reveal who thinks UR so special-call on 09065171142-stopsms-08718727870150ppm\n",
      "u secret admirer look 2 contact u find r*reveal think ur special ph_numberstopsms-08718727870150ppm\n",
      "0\n",
      "Dear 0776xxxxxxx U've been invited to XCHAT. This is our final attempt to contact u! Txt CHAT to 86688\n",
      "dear 0776xxxxxxx u've invite xchat final attempt contact u txt chat 86688\n",
      "1\n",
      "You are a winner you have been specially selected to receive £1000 cash or a £2000 award. Speak to a live operator to claim call 087147123779am-7pm. Cost 10p\n",
      "winner specially select receive £ 1000 cash £ 2000 award speak live operator claim 087147123779am-7pm cost 10p\n",
      "0\n",
      "New Mobiles from 2004, MUST GO! Txt: NOKIA to No: 89545 & collect yours today! From ONLY £1. www.4-tc.biz 2optout 087187262701.50gbp/mtmsg18 TXTAUCTION.\n",
      "new mobile 2004 txt nokia 89545 collect today £ 1 www.4-tc.biz 2optout 087187262701.50gbp mtmsg18 txtauction\n",
      "0\n",
      "SMS SERVICES. for your inclusive text credits, pls goto www.comuk.net login= 3qxj9 unsubscribe with STOP, no extra charge. help 08702840625.COMUK. 220-CM2 9AE\n",
      "sm service inclusive text credit pls goto www.comuk.net login= 3qxj9 unsubscribe stop extra charge help 08702840625.comuk 220 cm2 9ae\n",
      "0\n",
      "FreeMsg: Hey - I'm Buffy. 25 and love to satisfy men. Home alone feeling randy. Reply 2 C my PIX! QlynnBV Help08700621170150p a msg Send stop to stop txts\n",
      "freemsg hey ' m buffy 25 love satisfy man home feel randy reply 2 c pix qlynnbv help08700621170150p msg send stop stop txt\n",
      "0\n",
      "SMSSERVICES. for yourinclusive text credits, pls goto www.comuk.net login= 3qxj9 unsubscribe with STOP, no extra charge. help 08702840625.COMUK. 220-CM2 9AE\n",
      "smsservice yourinclusive text credit pl goto www.comuk.net login= 3qxj9 unsubscribe stop extra charge help 08702840625.comuk 220 cm2 9ae\n",
      "0\n",
      "\tRomantic Paris. 2 nights, 2 flights from £79 Book now 4 next year. Call 08704439680Ts&Cs apply.\n",
      "romantic paris 2 night 2 flight £ 79 book 4 year 08704439680ts&cs apply\n",
      "1\n",
      "http//tms. widelive.com/index. wml?id=820554ad0a1705572711&first=true¡C C Ringtone¡\n",
      "http//tms widelive.com/index wml?id=820554ad0a1705572711&first = true¡c c ringtone\n",
      "0\n",
      "Romantic Paris. 2 nights, 2 flights from £79 Book now 4 next year. Call 08704439680Ts&Cs apply.\n",
      "romantic paris 2 night 2 flight £ 79 book 4 year 08704439680ts&cs apply\n",
      "1\n",
      "URGENT! This is the 2nd attempt to contact U!U have WON £1000CALL 09071512432 b4 300603t&csBCM4235WC1N3XX.callcost150ppmmobilesvary. max£7. 50\n",
      "urgent 2nd attempt contact u!u win £ 1000call ph_numberb4 300603t&csbcm4235wc1n3xx.callcost150ppmmobilesvary max£7 50\n",
      "0\n",
      "FreeMsg Today's the day if you are ready! I'm horny & live in your town. I love sex fun & games! Netcollex Ltd 08700621170150p per msg\n",
      "freemsg today day ready ' m horny live town love sex fun game netcollex ltd 08700621170150p msg\n",
      "0\n",
      "\tSpook up your mob with a Halloween collection of a logo & pic message plus a free eerie tone, txt CARD SPOOK to 8007 zed 08701417012150p per logo/pic\n",
      "spook mob halloween collection logo pic message plus free eerie tone txt card spook 8007 zed 08701417012150p logo pic\n",
      "0\n",
      "Free msg: Single? Find a partner in your area! 1000s of real people are waiting to chat now!Send CHAT to 62220Cncl send STOPCS 08717890890£1.50 per msg\n",
      "free msg single find partner area 1000 real people wait chat now!send chat 62220cncl send stopcs 08717890890£1.50 msg\n",
      "1\n",
      "You are a winner you have been specially selected to receive £1000 cash or a £2000 award. Speak to a live operator to claim call 087123002209am-7pm. Cost 10p\n",
      "winner specially select receive £ 1000 cash £ 2000 award speak live operator claim 087123002209am-7pm cost 10p\n",
      "0\n",
      "500 New Mobiles from 2004, MUST GO! Txt: NOKIA to No: 89545 & collect yours today!From ONLY £1 www.4-tc.biz 2optout 087187262701.50gbp/mtmsg18 TXTAUCTION\n",
      "500 new mobile 2004 txt nokia 89545 collect today!from £ 1 www.4-tc.biz 2optout 087187262701.50gbp mtmsg18 txtauction\n",
      "1\n",
      "important information 4 orange user 0789xxxxxxx. today is your lucky day!2find out why log onto http://www.urawinner.com THERE'S A FANTASTIC SURPRISE AWAITING YOU!\n",
      "important information 4 orange user 0789xxxxxxx today lucky day!2find log http://www.urawinner.com fantastic surprise await\n",
      "1\n",
      "+449071512431 URGENT! This is the 2nd attempt to contact U!U have WON £1250 CALL 09071512433 b4 050703 T&CsBCM4235WC1N3XX. callcost 150ppm mobilesvary. max£7. 50\n",
      "+ PH_NUMBERurgent 2nd attempt contact u!u win £ 1250 ph_numberb4 050703 t&csbcm4235wc1n3xx callcost 150ppm mobilesvary max£7 50\n",
      "1\n",
      "Urgent -call 09066649731from Landline. Your complimentary 4* Ibiza Holiday or £10,000 cash await collection SAE T&Cs PO BOX 434 SK3 8WP 150ppm 18+\n",
      "urgent -call 09066649731from landline complimentary 4 ibiza holiday £ 10,000 cash await collection sae t&cs po box 434 sk3 8wp 150ppm 18 +\n",
      "1\n",
      "You are a winner U have been specially selected 2 receive £1000 or a 4* holiday (flights inc) speak to a live operator 2 claim 0871277810910p/min (18+)\n",
      "winner u specially select 2 receive £ 1000 4 holiday flight inc speak live operator 2 claim 0871277810910p min 18 +\n",
      "1\n",
      "You are a £1000 winner or Guaranteed Caller Prize, this is our Final attempt to contact you! To Claim Call 09071517866 Now! 150ppmPOBox10183BhamB64XE\n",
      "£ 1000 winner guarantee caller prize final attempt contact claim ph_numbernow 150ppmpobox10183bhamb64xe\n",
      "0\n",
      "FreeMsg Why haven't you replied to my text? I'm Randy, sexy, female and live local. Luv to hear from u. Netcollex Ltd 08700621170150p per msg reply Stop to end\n",
      "freemsg reply text ' m randy sexy female live local luv hear u. netcollex ltd 08700621170150p msg reply stop end\n",
      "1\n",
      "UR awarded a City Break and could WIN a £200 Summer Shopping spree every WK. Txt STORE to 88039.SkilGme.TsCs087147403231Winawk!Age16+£1.50perWKsub\n",
      "ur award city break win £ 200 summer shopping spree wk txt store 88039.skilgme tscs087147403231winawk!age16+£1.50perwksub\n",
      "1\n",
      "\tFreeMsg Today's the day if you are ready! I'm  & live in your town. I love sex fun & games! Netcollex Ltd 08700621170150p per msg reply Stop to end\n",
      "freemsg today day ready ' m live town love sex fun game netcollex ltd 08700621170150p msg reply stop end\n",
      "1\n",
      "Guess what! Somebody you know secretly fancies you! Wanna find out who it is? Give us a call on 09065394514 From Landline DATEBox1282EssexCM61XN 150p/min 18\n",
      "guess somebody know secretly fancy wanna find ph_numberfrom landline datebox1282essexcm61xn 150p min 18\n",
      "0\n",
      "Hope you enjoyed your new content. text stop to 61610 to unsubscribe. help:08712400602450p Provided by tones2you.co.uk\n",
      "hope enjoy new content text stop 61610 unsubscribe help:08712400602450p provide tones2you.co.uk\n",
      "1\n",
      "\tFreeMsg Why haven't you replied to my text? I'm female and live local. Luv to hear from u. Netcollex Ltd 08700621170150p per msg reply Stop to end\n",
      "freemsg reply text ' m female live local luv hear u. netcollex ltd 08700621170150p msg reply stop end\n",
      "1\n",
      "\tReply with your name and address and YOU WILL RECEIVE BY POST a weeks completely free accommodation at various global locations www.phb1.com ph:08700435505150p\n",
      "reply address receive post weeks completely free accommodation global location www.phb1.com ph:08700435505150p\n",
      "1\n",
      "\tPromotion Number: 8714714 - UR awarded a City Break and could WIN a £200 Summer Shopping spree every WK. Txt STORE to 88039 . SkilGme. TsCs087147403231Winawk!Age16 £1.50perWKsub\n",
      "promotion number 8714714 ur award city break win £ 200 summer shopping spree wk txt store 88039 skilgme tscs087147403231winawk!age16 £ 1.50perwksub\n",
      "0\n",
      "Hard LIVE 121 chat just 60p/min. Choose your girl and connect LIVE. Call 09094646899 now! Cheap Chat UK's biggest live service. VU BCM1896WC1N3XX\n",
      "hard live 121 chat 60p min choose girl connect live ph_numbernow cheap chat uk big live service vu bcm1896wc1n3xx\n"
     ]
    }
   ],
   "source": [
    "i = 0\n",
    "for x in df_transformado[\"PROCESSED_TEXT\"]:\n",
    "    if re.search(r\"\\d{4}\\w{7}\", x) is not None:\n",
    "        print(df_transformado[\"LABEL\"].iloc[i])\n",
    "        print(df_transformado[\"TEXT\"].iloc[i])\n",
    "        print(df_transformado[\"PROCESSED_TEXT\"].iloc[i])\n",
    "    i += 1"
   ]
  },
  {
   "cell_type": "code",
   "execution_count": null,
   "id": "f60080a7-b8f9-46a4-8711-764b893f34bc",
   "metadata": {
    "scrolled": true,
    "tags": []
   },
   "outputs": [
    {
     "name": "stdout",
     "output_type": "stream",
     "text": [
      "[-1]\n",
      "136 ['not want hear']\n",
      "[1]\n",
      "224 ['PH_NUMBERimmediately urgent message wait']\n",
      "[1]\n",
      "319 ['want new video handset 750 time network min unlimited text camcorder reply ph_numberfor del sat']\n",
      "[-1]\n",
      "417 ['wat r u']\n",
      "[1]\n",
      "430 ['PH_NUMBERimmediately urgent message wait']\n",
      "[1]\n",
      "500 ['dear v0daf0ne customer 5,00,000 winner guarantee caller prize final attempt contact claim ph_numbernow']\n",
      "[1]\n",
      "548 ['PH_NUMBERimmediately urgent message wait']\n",
      "[1]\n",
      "708 ['u secret admirer look 2 contact u find r*reveal think ur special PH_NUMBER']\n",
      "[-1]\n",
      "729 ['']\n",
      "[-1]\n",
      "785 ['gud mrng dear hav nice day']\n",
      "[1]\n",
      "824 ['dear v0daf0ne customer 5,00,000 winner guarantee caller prize final attempt contact claim ph_numbernow']\n",
      "[1]\n",
      "868 ['PH_NUMBERurgent mobile 07xxxxxxxxx win £ 2,000 bonus caller prize 02/06/03 2nd attempt reach PH_NUMBERasap']\n",
      "[-1]\n",
      "902 ['']\n",
      "[0]\n",
      "927 ['free ringtone -sub weekly ringtone 1st week free send subpoly 81618-?3 week stop sm - ph_number']\n",
      "[1]\n",
      "989 ['free message activate 500 free text message reply message word free term condition visit www.07781482378.com']\n",
      "[-1]\n",
      "1022 ['u']\n",
      "[1]\n",
      "1033 ['current lead bid 151 pause auction send customer care PH_NUMBER']\n",
      "[1]\n",
      "1065 ['ph_numberyou win £ 2,000 price claim PH_NUMBER']\n",
      "[0]\n",
      "1211 ['free entry £ 250 weekly comp send word enter 84128 18 t&c www.textcomp.com cust care ph_number']\n",
      "[-1]\n",
      "1226 ['hi mobile PH_NUMBERhas add contact list www.fullonsms.com s great place send free sm people visit fullonsms.com']\n",
      "[1]\n",
      "1227 ['PH_NUMBERimmediately urgent message wait']\n",
      "[1]\n",
      "1238 ['u secret admirer look 2 contact u find r*reveal think ur special ph_numberstopsms-08']\n",
      "[1]\n",
      "1283 ['1 new message PH_NUMBER']\n",
      "[1]\n",
      "1363 ['win value vodafone customer computer pick win £ 150 prize collect easy PH_NUMBER']\n",
      "[1]\n",
      "1367 [\"sorry miss let talk time ' m PH_NUMBER\"]\n",
      "[0]\n",
      "1388 ['u r subscribe 2 textcomp 250 wkly comp 1st wk?s free question follow subsequent wks email msg.2 unsubscribe txt stop 2 84128,custcare ph_number']\n",
      "[1]\n",
      "1403 ['5 free polyphonic tone PH_NUMBERnational rate toppoly tune send week text subpoly 81618 £ 3 pole unsub ph_number']\n",
      "[-1]\n",
      "1418 ['happen']\n",
      "[1]\n",
      "1483 ['like tell deep dark fantasy ph_numberjust 60p min stop text PH_NUMBERnat rate']\n",
      "[1]\n",
      "1591 ['PH_NUMBERimmediately urgent message wait']\n",
      "[1]\n",
      "1627 ['urgent mobile number award inr.2,00,000 prize guarantee ph_numberfrom land line claim 3030 valid 12hr']\n",
      "[1]\n",
      "1657 ['dear paytm)customer paytm kyc suspend pay tm office ph PH_NUMBERyour paytm c block 24hr thank']\n",
      "[1]\n",
      "1659 [\"dear customer u've select stay f1ve star hotel t0day draw holiday value inr 5,00,000.dial ph_numberto claim\"]\n",
      "[1]\n",
      "1678 ['dear paytm customer paytm kyc expire contact customer care - ph_numberimmediately account block 24 hr thank paytm team']\n",
      "[-1]\n",
      "1692 ['wat r u']\n",
      "[-1]\n",
      "1698 ['sorry later']\n",
      "[1]\n",
      "1707 ['dear v0daf0ne customer 5,00,000 winner guarantee caller prize final attempt contact claim ph_numbernow']\n",
      "[-1]\n",
      "1720 ['sorry later night']\n",
      "[1]\n",
      "1755 ['try reply sms video mobile 750 min unlimited text + free camcorder reply ph_numbernow']\n",
      "[1]\n",
      "1773 ['PH_NUMBERimmediately urgent message wait']\n",
      "[1]\n",
      "1780 ['u secret admirer look 2 contact u find r*reveal think ur special PH_NUMBER']\n",
      "[-1]\n",
      "1819 ['ok']\n",
      "[0]\n",
      "1841 ['text82228 > > ringtone logo game www.txt82228.com question email']\n",
      "[1]\n",
      "1869 ['try contact reply offer 750 min 150 textand new video phone ph_numbernow reply free delivery tomorrow']\n",
      "[1]\n",
      "1872 ['1 new voicemail PH_NUMBER']\n",
      "[1]\n",
      "1979 ['congratulation win winner august £ 1000 prize draw ph_numbernow prize code 2309']\n",
      "[-1]\n",
      "2009 ['need']\n",
      "[-1]\n",
      "2095 ['']\n",
      "[1]\n",
      "2098 ['urgent try contact u. todays draw show win £ 800 prize guarantee ph_numberfrom land line claim m95 valid12hr']\n",
      "[1]\n",
      "2110 ['customer service announcement recently try delivery unable PH_NUMBERto schedule ref:9280114']\n",
      "[1]\n",
      "2116 ['today voda number end 1225 select receive £ 50award match ph_numberquoting claim code 3100 standard rate app']\n",
      "[-1]\n",
      "2122 [\"' m come home 4 dinner\"]\n",
      "[-1]\n",
      "2130 ['sorry meeting later']\n",
      "[1]\n",
      "2139 ['dear paytm)customer paytm kyc suspend pay tm office ph PH_NUMBERyour paytm c block 24hr thank']\n",
      "[1]\n",
      "2177 ['PH_NUMBERrodger burn msg = try reply sm free nokia mobile + free camcorder ph_numberfor delivery tomorrow']\n",
      "[-1]\n",
      "2236 ['talk']\n",
      "[0]\n",
      "2279 ['thanks ringtone order reference number x49.your mobile charge 4.50 tone arrive customer service ph_number']\n",
      "[-1]\n",
      "2282 ['s cool gentleman treat dignity respect']\n",
      "[1]\n",
      "2296 ['important customer service announcement freephone ph_numbernow']\n",
      "[1]\n",
      "2305 ['u secret admirer look 2 contact u find r*reveal think ur special ph_numberstopsms-08718727870150ppm']\n",
      "[-1]\n",
      "2371 ['finish work']\n",
      "[1]\n",
      "2377 ['unique user d 1172 removal send stop 87239 customer service ph_number']\n",
      "[1]\n",
      "2404 ['dear paytm customer paytm kyc expire contact customer care - ph_numberimmediately account block 24 hr thank paytm team']\n",
      "[0]\n",
      "2444 ['want new video phone 750 anytime network mins half price line rental free text 3 month reply ph_numberfor free delivery']\n",
      "[1]\n",
      "2448 ['customer service annoncement new years delivery wait PH_NUMBERnow arrange delivery']\n",
      "[1]\n",
      "2518 ['value customer pleased advise follow recent review mobile award rs.7,00,000 bonus prize PH_NUMBER']\n",
      "[1]\n",
      "2545 ['customer service representative ph_numberbetween 10am-9pm w0n guarantee cash prize rs.5,00,000 fl1pkart team']\n",
      "[-1]\n",
      "2575 ['sorry later urgent work']\n",
      "[1]\n",
      "2577 ['dear customer pay2tmkyc expire s bl0cke 24 hour contact customer care ph ph_numberimmediately verify']\n",
      "[0]\n",
      "2644 ['thanks ringtone order reference number x49 mobile charge 4.50 tone arrive customer service ph_numberfrom colour = red]text[/colour]txtstar']\n",
      "[1]\n",
      "2647 ['discount code rp176781 stop message reply stop www.regalportfolio.co.uk customer service ph_number']\n",
      "[1]\n",
      "2664 ['44 ph_numberdo want new nokia 3510i colour phone deliveredtomorrow 300 free minute mobile + 100 free text + free camcorder reply PH_NUMBER']\n",
      "[1]\n",
      "2710 ['email 2morow 28/5 soiree speciale zouk nichols paris.free roses 2 lady info PH_NUMBERPH_NUMBER']\n",
      "[1]\n",
      "2720 ['customer service announcement recently try delivery unable PH_NUMBERto schedule ref:9307622']\n",
      "[1]\n",
      "2758 ['dear v0daf0ne customer 5,00,000 winner guarantee caller prize final attempt contact claim ph_numbernow']\n",
      "[-1]\n",
      "2784 ['']\n",
      "[0]\n",
      "2785 ['b floppy b snappy happy gay chat service photo upload ph_number10p min 2 stop text PH_NUMBER']\n",
      "[1]\n",
      "2798 ['hold paytm complete paytm kyc paytm office ph ph_number']\n",
      "[1]\n",
      "2858 ['u secret admirer reveal think u r special ph_numberto opt reply reveal stop 1.50 msg recd cust care ph_number']\n",
      "[1]\n",
      "2871 ['dear paytm)customer paytm kyc suspend pay tm office ph PH_NUMBERyour paytm c block 24hr thank']\n",
      "[0]\n",
      "2920 ['thanks ringtone order reference number x29 mobile charge 4.50 tone arrive customer service ph_number']\n",
      "[0]\n",
      "2974 ['-pls stop bootydelious 32 f invite friend reply yes-434 no-434 www.sms.ac/u/bootydelious stop send stop frnd 62468']\n",
      "[-1]\n",
      "2996 ['lor']\n",
      "[0]\n",
      "3001 ['not forget place free request 1stchoice.co.uk wish information ph_number']\n",
      "[0]\n",
      "3028 ['88800 89034 premium phone service ph_number']\n",
      "[1]\n",
      "3078 ['1 new voicemail PH_NUMBER']\n",
      "[1]\n",
      "3107 ['mobile 11mths+ entitle update late colour camera mobile free mobile update co free PH_NUMBER']\n",
      "[-1]\n",
      "3111 ['']\n",
      "[-1]\n",
      "3117 ['sir wait mail']\n",
      "[0]\n",
      "3137 ['credit top http://www.bubbletext.com renewal pin tgxxrz']\n",
      "[1]\n",
      "3216 ['win guarantee £ 1000 cash £ 2000 prize claim yr prize customer service representative ph_numberbetween 10am-7pm cost 10p']\n",
      "[1]\n",
      "3233 ['contact dating service know find land line ph_numberpobox45w2tg150p']\n",
      "[1]\n",
      "3265 ['dear v0daf0ne customer 5,00,000 winner guarantee caller prize final attempt contact claim ph_numbernow']\n",
      "[1]\n",
      "3280 ['hold paytm complete paytm kyc paytm office ph ph_number']\n",
      "[0]\n",
      "3288 ['amanda regard renew upgrade current t mobile handset free charge offer end today tel ph_numbersubject t c']\n",
      "[1]\n",
      "3302 [\"dear customer u've select stay f1ve star hotel t0day draw holiday value inr 5,00,000.dial ph_numberto claim\"]\n",
      "[1]\n",
      "3314 ['congratulations thank good friend u win £ 2,000 xmas prize 2 claim easy PH_NUMBERnow 10p minute bt national rate']\n",
      "[0]\n",
      "3347 ['freephone ph_numbernow']\n",
      "[-1]\n",
      "3361 ['sorry later meeting']\n",
      "[1]\n",
      "3364 ['congratulations thank good friend u win £ 2,000 xmas prize 2 claim easy PH_NUMBERnow 10p minute bt national rate']\n",
      "[1]\n",
      "3386 ['dear voucher holder claim weeks offer pc http://www.wtlp.co.uk/text ts&c apply']\n",
      "[1]\n",
      "3406 ['dear customer pay2tmkyc expire s bl0cke 24 hour contact customer care ph ph_numberimmediately verify']\n",
      "[1]\n",
      "3423 ['goldviking 29 m invite friend reply yes-762 no-762 www.sms.ac/u/goldviking stop send stop frnd 62468']\n",
      "[-1]\n",
      "3456 [\"' m home\"]\n",
      "[-1]\n",
      "3473 ['sorry later meeting']\n",
      "[1]\n",
      "3486 ['choose receive £ 350 award pls claim number ph_numberto collect award select receive value mobile customer']\n",
      "[1]\n",
      "3487 ['< forward ph_number > PH_NUMBERimmediately urgent message wait']\n",
      "[1]\n",
      "3528 ['http//tms widelive.com/index wml?id=820554ad0a1705572711&first = true¡c c ringtone']\n",
      "[-1]\n",
      "3576 ['yup ok']\n",
      "[0]\n",
      "3584 ['great news freefone PH_NUMBERto claim guarantee £ 1000 cash £ 2000 gift speak live operator']\n",
      "[1]\n",
      "3595 ['mobile 11 month u r entitle update late colour mobile camera free mobile update co free PH_NUMBER']\n",
      "[1]\n",
      "3609 ['atm block dear customer system upgrade atm card de activate activate customer care help PH_NUMBERnow']\n",
      "[0]\n",
      "3615 ['lyricalladie 21 f invite friend reply yes-910 no-910 www.sms.ac/u/hmmross stop send stop frnd 62468']\n",
      "[1]\n",
      "3626 ['winner u specially select 2 receive £ 1000 cash 4 holiday flight inc speak live operator 2 claim 0ph_number']\n",
      "[1]\n",
      "3637 ['sms ac blind date 4u rodds1 21 m aberdeen united kingdom check http://img sms ac w icmb3cktz8r7!-4 blind date send hide']\n",
      "[1]\n",
      "3647 ['want 750 anytime network min 150 text new video phone pound week ph_numberor reply delivery tomorrow']\n",
      "[-1]\n",
      "3664 ['ok c u']\n",
      "[1]\n",
      "3669 ['unsubscribed service ton sexy babe hunk straight phone http://gotbabes.co.uk subscription']\n",
      "[1]\n",
      "3672 ['try contact reply offer video handset 750 anytime network min unlimited text camcorder reply ph_numbernow']\n",
      "[1]\n",
      "3682 ['u secret admirer look 2 contact u find r*reveal think ur special PH_NUMBER']\n",
      "[0]\n",
      "3697 ['romantic paris 2 night 2 flight £ 79 book 4 year 08704439680ts&cs apply']\n",
      "[1]\n",
      "3761 ['hold paytm complete paytm kyc paytm office ph ph_number']\n",
      "[1]\n",
      "3769 ['important information 4 orange user today lucky day!2find log http://www.urawinner.com fantastic surprise await']\n",
      "[0]\n",
      "3807 ['want new video phone 600 anytime network min 400 inclusive video call download 5 week free deltomorrow ph_numberor reply']\n",
      "[1]\n",
      "3849 [\"dear customer u've select stay f1ve star hotel t0day draw holiday value inr 5,00,000.dial ph_numberto claim\"]\n",
      "[1]\n",
      "3862 ['hold paytm complete paytm kyc paytm office ph ph_number']\n",
      "[1]\n",
      "3868 ['urgent mobile number award inr.2,00,000 prize guarantee ph_numberfrom land line claim 3030 valid 12hr']\n",
      "[1]\n",
      "3875 ['today voda number end 5226 select receive 350 award hava match ph_numberquoting claim code 1131 standard rate app']\n",
      "[1]\n",
      "3922 ['u secret admirer look 2 contact u find r*reveal think ur special PH_NUMBER']\n",
      "[1]\n",
      "3929 ['atm block dear customer system upgrade atm card de activate activate customer care help PH_NUMBERnow']\n",
      "[0]\n",
      "3943 ['welcome uk mobile date msg free give free calling PH_NUMBERfuture mg bill 150p daily cancel send stop 89123']\n",
      "[1]\n",
      "3971 ['urgent mobile number award £ 2000 prize guarantee ph_numberfrom land line claim 3030 valid 12hr 150ppm']\n",
      "[1]\n",
      "4000 ['phony £ 350 award today voda number end xxxx select receive £ 350 award match ph_numberquoting claim code 3100 standard rate app']\n",
      "[1]\n",
      "4034 ['dear paytm customer paytm kyc expire contact customer care - ph_numberimmediately account block 24 hr thank paytm team']\n",
      "[1]\n",
      "4054 ['dear customer pyatm wallet book hold complete kyc contact customer care ph_number']\n",
      "[1]\n",
      "4059 ['congrat 2 mobile 3 g videophone r PH_NUMBERnow videochat wid mate play java game dload polyph music noline rentl']\n",
      "[1]\n",
      "4068 ['1 new voicemail PH_NUMBER']\n",
      "[-1]\n",
      "4088 ['think']\n",
      "[-1]\n",
      "4103 ['come']\n",
      "[0]\n",
      "4118 ['dear voucher holder claim weeks offer pc http://www.e-tlp.co.uk/expressoffer ts&c apply stop text txt stop 80062']\n",
      "[-1]\n",
      "4126 ['']\n",
      "[1]\n",
      "4167 ['urgent mobile number award £ 2000 prize guarantee ph_numberfrom land line claim 3030 valid 12hr 150ppm']\n",
      "[1]\n",
      "4172 ['free msg bill mobile number mistake shortcode 83332.please ph_numberto charge refund free bt landline']\n",
      "[0]\n",
      "4206 ['thanks ringtone order reference t91 charge gbp 4 week unsubscribe anytime call customer service ph_number']\n",
      "[1]\n",
      "4227 ['december mobile 11mths+ entitle update late colour camera mobile free mobile update co free PH_NUMBER']\n",
      "[1]\n",
      "4236 ['urgent important information 02 user today lucky day 2 find log http://www.urawinner.com fantastic surprise await']\n",
      "[0]\n",
      "4239 ['spook mob halloween collection logo pic message plus free eerie tone txt card spook 8007 zed 08701417012150p logo pic']\n",
      "[-1]\n",
      "4294 ['ok.ok ok s ur todays plan']\n",
      "[1]\n",
      "4297 ['choose receive £ 350 award pls claim number ph_numberto collect award select receive value mobile customer']\n",
      "[1]\n",
      "4305 ['want late video handset 750 anytime network min half price line rental reply ph_numberfor delivery tomorrow']\n",
      "[1]\n",
      "4311 ['rip mobile content www.clubmoby.com ph_numberpoly true pix ringtone game download 3']\n",
      "[1]\n",
      "4316 ['reminder download content pay goto http://doit mymoby tv/ collect content']\n",
      "[1]\n",
      "4318 ['atm block dear customer system upgrade atm card bl0cke activate customer care help PH_NUMBERnow']\n",
      "[-1]\n",
      "4320 ['sorry help']\n",
      "[0]\n",
      "4323 ['enjoy jamster videosound gold club credit 2 new videosounds+2 logos+musicnews fun jamster.co.uk 16+only help PH_NUMBER']\n",
      "[1]\n",
      "4328 ['dear customer pyatm wallet book hold complete kyc contact customer care ph_number']\n",
      "[1]\n",
      "4378 ['4 costa del sol holiday £ 5000 await collection ph_numbernow toclaim sae tcs pobox334 stockport sk38xh cost£1.50 pm max10mins']\n",
      "[0]\n",
      "4400 ['sparkling shopping break 45 person 0121 2025050 visit www.shortbreaks.org.uk']\n",
      "[1]\n",
      "4426 ['value customer pleased advise follow recent review mob award £ 1500 bonus prize PH_NUMBER']\n",
      "[1]\n",
      "4435 ['bear pic nick tom pete dick fact type try gay chat photo upload ph_number10p min 2 stop text ph_number']\n",
      "[1]\n",
      "4466 ['want new video handset 750 anytime network min half price line rental camcorder reply ph_numberfor delivery tomorrow']\n",
      "[-1]\n",
      "4471 ['']\n",
      "[-1]\n",
      "4477 [\"' m home\"]\n",
      "[1]\n",
      "4488 ['free 1st week entry 2 textpod 4 chance 2 win 40 gb ipod £ 250 cash wk txt vpod 81303 ts&c www.textpod.net custcare ph_number']\n",
      "[-1]\n",
      "4509 ['sorry later meeting']\n",
      "[-1]\n",
      "4514 ['not pick phone right u later']\n",
      "[1]\n",
      "4536 ['atm block dear customer system upgrade atm card bl0cke activate customer care help PH_NUMBERnow']\n",
      "[1]\n",
      "4542 ['u secret admirer look 2 contact u find r*reveal think ur special PH_NUMBER']\n",
      "[1]\n",
      "4621 ['dear v0daf0ne customer 5,00,000 winner guarantee caller prize final attempt contact claim ph_numbernow']\n",
      "[1]\n",
      "4654 ['u ph_numberhave secret admirer look 2 contact u find r*reveal think ur special PH_NUMBER']\n",
      "[1]\n",
      "4656 ['dear customer pyatm wallet book hold complete kyc contact customer care ph_number']\n",
      "[1]\n",
      "4689 [\"dear customer u've select stay f1ve star hotel t0day draw holiday value inr 5,00,000.dial ph_numberto claim\"]\n",
      "[1]\n",
      "4767 ['freemsg award free mini digital camera reply snap collect prize quizclub opt stop 80122300p wk sp rwm ph : ph_number']\n",
      "[-1]\n",
      "4771 ['']\n",
      "[-1]\n",
      "4772 ['tonight']\n",
      "[0]\n",
      "4775 ['try reply sms video mobile 750 min unlimited text free camcorder reply PH_NUMBERdel thurs']\n",
      "[-1]\n",
      "4825 ['okie thanx']\n",
      "[1]\n",
      "4837 ['thank winner notify sms good luck future marketing reply stop 84122 customer service PH_NUMBER']\n",
      "[1]\n",
      "4851 ['atm block dear customer system upgrade atm card bl0cke activate customer care help PH_NUMBERnow']\n",
      "[-1]\n",
      "4853 ['not pick phone right urgent']\n",
      "[-1]\n",
      "4869 ['call message miss call']\n",
      "[1]\n",
      "4870 ['free message**thanks auction subscription service 18 150p msgrcvd 2 skip auction txt 2 unsubscribe txt stop customercare PH_NUMBER']\n",
      "[1]\n",
      "4897 ['EMAIL bank granite issue strong buy explosive pick member 300 nasdaq symbol cdgt $ 5.00']\n",
      "[1]\n",
      "4920 ['2nd attempt contract u win weeks prize £ 1000 cash £ 200 prize PH_NUMBER']\n",
      "[1]\n",
      "4923 ['hold paytm complete paytm kyc paytm office ph ph_number']\n",
      "[-1]\n",
      "4954 ['']\n",
      "[1]\n",
      "4961 ['dear paytm)customer paytm kyc suspend pay tm office ph PH_NUMBERyour paytm c block 24hr thank']\n",
      "[0]\n",
      "5038 ['freemsg 1 month unlimited free call activate smartcall txt 68866 subscriptn3gbp wk unlimited call help ph_numberstop?txt stop landlineonly']\n",
      "[1]\n",
      "5058 ['urgent mobile number award inr.2,00,000 prize guarantee ph_numberfrom land line claim 3030 valid 12hr']\n",
      "[1]\n",
      "5077 ['value customer pleased advise follow recent review mob award £ 1500 bonus prize PH_NUMBER']\n",
      "[0]\n",
      "5084 ['santa call little one like santa xmas eve PH_NUMBERto book time']\n",
      "[1]\n",
      "5100 ['private 2004 account statement ph_numbershow 786 unredeemed bonus point claim ph_numberidentifier code 45239 expire']\n",
      "[-1]\n",
      "5116 ['ok']\n",
      "[1]\n",
      "5121 [\"dear customer u've select stay f1ve star hotel t0day draw holiday value inr 5,00,000.dial ph_numberto claim\"]\n",
      "[1]\n",
      "5126 ['ur go 2 bahamas callfreefone PH_NUMBERand speak live operator claim bahamas cruise of£2000 cash 18+only opt txt x PH_NUMBER']\n",
      "[-1]\n",
      "5153 ['u']\n",
      "[1]\n",
      "5162 ['dear paytm customer paytm kyc expire contact customer care - ph_numberimmediately account block 24 hr thank paytm team']\n",
      "[1]\n",
      "5175 ['urgent mobile number award £ 2000 prize guarantee ph_numberfrom land line claim 3030 valid 12hr']\n",
      "[1]\n",
      "5188 ['email game thedailydraw dear helen dozen free game great prizeswith']\n",
      "[1]\n",
      "5202 ['important customer service announcement premier freephone PH_NUMBERnow']\n",
      "[0]\n",
      "5205 ['jamster free wallpaper text heart 88888 t&c apply 16 need help PH_NUMBER']\n",
      "[-1]\n",
      "5228 ['exam march 3']\n",
      "[1]\n",
      "5234 ['1 new message PH_NUMBER']\n",
      "[1]\n",
      "5238 ['good luck draw take place 28th feb 06 good luck removal send stop 87239 customer service PH_NUMBER']\n",
      "[-1]\n",
      "5253 ['way']\n",
      "[1]\n",
      "5260 [\"' ve win tkt euro2004 cup final £ 800 cash collect ph_numberb4190604 pobox 7876150ppm\"]\n",
      "[-1]\n",
      "5266 ['come hostel']\n",
      "[-1]\n",
      "5270 ['']\n",
      "[-1]\n",
      "5281 ['wat u']\n",
      "[1]\n",
      "5287 ['2nd time try 2 contact u. u win 750 pound prize 2 claim easy ph_numbernow 10p min bt national rate']\n",
      "[1]\n",
      "5299 ['guess somebody know secretly fancy wanna find ph_numberfrom landline datebox1282essexcm61xn 150p min 18']\n",
      "[0]\n",
      "5320 ['miss alert number call leave message ph_number']\n",
      "[1]\n",
      "5329 [\"dear customer u've select stay f1ve star hotel t0day draw holiday value inr 5,00,000.dial ph_numberto claim\"]\n",
      "[1]\n",
      "5332 ['hi babe jordan r u m home abroad lonely text u wanna chat xxsp visionsms.com text stop stopcost 150p ph_number']\n",
      "[-1]\n",
      "5359 ['way']\n",
      "[1]\n",
      "5366 ['valentines day special win £ 1000 quiz partner trip lifetime send 83600 150p msg rcvd custcare : ph_number']\n",
      "[1]\n",
      "5372 ['dear customer pyatm wallet book hold complete kyc contact customer care ph_number']\n",
      "[1]\n",
      "5385 ['1 new message PH_NUMBER']\n",
      "[1]\n",
      "5402 ['link picture send use http://alto18.co.uk/wave/wave.asp?o=44345']\n",
      "[-1]\n",
      "5426 ['home']\n",
      "[0]\n",
      "5435 ['freemsg feelin kinda lnly hope u like 2 company jst get cam moby wanna c pic?txt reply date 82242 msg150p 2rcv hlp ph_numberstop 82242']\n",
      "[-1]\n",
      "5439 ['special']\n",
      "[1]\n",
      "5450 ['dear customer pyatm wallet book hold complete kyc contact customer care ph_number']\n",
      "[-1]\n",
      "5470 ['']\n",
      "[1]\n",
      "5477 ['dear customer pay2tmkyc expire s bl0cke 24 hour contact customer care ph ph_numberimmediately verify']\n",
      "[1]\n",
      "5490 ['u ph_numberhave secret admirer look 2 contact u find r*reveal think ur special PH_NUMBER']\n",
      "[1]\n",
      "5493 ['urgent mobile number award inr.2,00,000 prize guarantee ph_numberfrom land line claim 3030 valid 12hr']\n",
      "[1]\n",
      "5504 ['urgent mobile number award inr.2,00,000 prize guarantee ph_numberfrom land line claim 3030 valid 12hr']\n",
      "[-1]\n",
      "5510 ['']\n",
      "[1]\n",
      "5516 ['message important information o2 user today lucky day 2 find log http://www.urawinner.com fantastic surprise await']\n",
      "[1]\n",
      "5521 ['loan purpose bad credit tenant welcome noworriesloans.com ph_number']\n",
      "[1]\n",
      "5551 ['u secret admirer look 2 contact u find r*reveal think ur special PH_NUMBER']\n",
      "[1]\n",
      "5580 ['try contact offer new video phone 750 anytime network min half price rental camcorder ph_numberor reply delivery d']\n",
      "[1]\n",
      "5584 ['mobile number win £ 5000 claim call ring claim hot line ph_number']\n",
      "[-1]\n",
      "5585 [\"friendship game play word doesn\\\\'t start march end tomorrow yesterday today\"]\n",
      "[-1]\n",
      "5615 ['u']\n",
      "[0]\n",
      "5621 ['summer finally fancy chat flirt sexy single yr area match reply summer free 2 join optout txt stop helpph_number']\n",
      "[1]\n",
      "5625 ['urgent mobile number award inr.2,00,000 prize guarantee ph_numberfrom land line claim 3030 valid 12hr']\n",
      "[1]\n",
      "5635 ['dear customer pay2tmkyc expire s bl0cke 24 hour contact customer care ph ph_numberimmediately verify']\n",
      "[-1]\n",
      "5643 ['come']\n",
      "[1]\n",
      "5656 ['free entry gr8prizes wkly comp 4 chance win late nokia 8800 psp £ 250 cash wk txt great 80878 http//www.gr8prizes.com ph_number']\n",
      "[0]\n",
      "5661 ['twink bear scallie skin jock call miss weekend fun PH_NUMBERat 10p min 2 stop text PH_NUMBERnat rate']\n",
      "[1]\n",
      "5676 ['today voda number end 7548 select receive $ 350 award match ph_numberquoting claim code 4041 standard rate app']\n",
      "[1]\n",
      "5681 ['important customer service announcement freephone ph_numbernow']\n",
      "[-1]\n",
      "5689 ['get']\n",
      "[1]\n",
      "5727 ['£ 400 xmas reward wait computer randomly pick loyal mobile customer receive £ 400 reward PH_NUMBER']\n",
      "[-1]\n",
      "5746 ['check']\n",
      "[1]\n",
      "5788 ['reply address receive post weeks completely free accommodation global location www.phb1.com ph:08700435505150p']\n",
      "[-1]\n",
      "5803 ['u got persons story']\n",
      "[1]\n",
      "5809 ['u want xmas 100 free text message new video phone half price line rental free 0800 0721072 find']\n",
      "[1]\n",
      "5824 ['refuse loan secured unsecured credit free ph_numberor text help']\n",
      "[1]\n",
      "5852 ['1 new voicemail PH_NUMBER']\n",
      "[1]\n",
      "5863 ['today voda number end 7634 select receive £ 350 reward match ph_numberquoting claim code 7684 standard rate apply']\n",
      "[1]\n",
      "5867 ['want new video phone750 anytime network min 150 text pound week ph_numbernow reply delivery tomorrow']\n",
      "[-1]\n",
      "5891 ['plan']\n",
      "[-1]\n",
      "5908 ['ok lor']\n",
      "[0]\n",
      "5916 ['ur 1st ringtone free reply msg tone gr8 20 tone phone week £ 1.50 wk 2 opt send stop ph_number16']\n",
      "[-1]\n",
      "5945 ['']\n"
     ]
    }
   ],
   "source": [
    "i = 0\n",
    "for x in df_transformado[\"PROCESSED_TEXT\"].duplicated():\n",
    "    if x == True:\n",
    "        print([df_transformado[\"LABEL\"].iloc[i]])\n",
    "        print(i, [df_transformado[\"PROCESSED_TEXT\"].iloc[i]])\n",
    "    i += 1"
   ]
  },
  {
   "cell_type": "code",
   "execution_count": null,
   "id": "55c7ad48",
   "metadata": {
    "scrolled": true,
    "tags": []
   },
   "outputs": [
    {
     "name": "stdout",
     "output_type": "stream",
     "text": [
      "[-1]\n",
      "543 ['']\n",
      "[-1]\n",
      "729 ['']\n",
      "[-1]\n",
      "902 ['']\n",
      "[-1]\n",
      "2095 ['']\n",
      "[-1]\n",
      "2784 ['']\n",
      "[-1]\n",
      "3111 ['']\n",
      "[-1]\n",
      "4126 ['']\n",
      "[-1]\n",
      "4471 ['']\n",
      "[-1]\n",
      "4771 ['']\n",
      "[-1]\n",
      "4954 ['']\n",
      "[-1]\n",
      "5270 ['']\n",
      "[-1]\n",
      "5470 ['']\n",
      "[-1]\n",
      "5510 ['']\n",
      "[-1]\n",
      "5945 ['']\n"
     ]
    }
   ],
   "source": [
    "i = 0\n",
    "for x in df_transformado[\"PROCESSED_TEXT\"] == \"\":\n",
    "    if x == True:\n",
    "        print([df_transformado[\"LABEL\"].iloc[i]])\n",
    "        print(i, [df_transformado[\"PROCESSED_TEXT\"].iloc[i]])\n",
    "    i += 1"
   ]
  },
  {
   "cell_type": "code",
   "execution_count": null,
   "id": "ecceeb3a",
   "metadata": {},
   "outputs": [],
   "source": [
    "df_transformado.drop_duplicates(subset=[\"LABEL\",\"PROCESSED_TEXT\"], inplace=True)"
   ]
  },
  {
   "cell_type": "code",
   "execution_count": null,
   "id": "770d9f80",
   "metadata": {},
   "outputs": [],
   "source": [
    "#Remover os que estão duplicados\n",
    "#TODO: conferir se foram os melhores dados\n",
    "# df_transformado.drop_duplicates(subset=[\"PROCESSED_TEXT\"], inplace=True)"
   ]
  },
  {
   "cell_type": "code",
   "execution_count": null,
   "id": "5516c974",
   "metadata": {},
   "outputs": [
    {
     "data": {
      "text/html": [
       "<div>\n",
       "<style scoped>\n",
       "    .dataframe tbody tr th:only-of-type {\n",
       "        vertical-align: middle;\n",
       "    }\n",
       "\n",
       "    .dataframe tbody tr th {\n",
       "        vertical-align: top;\n",
       "    }\n",
       "\n",
       "    .dataframe thead th {\n",
       "        text-align: right;\n",
       "    }\n",
       "</style>\n",
       "<table border=\"1\" class=\"dataframe\">\n",
       "  <thead>\n",
       "    <tr style=\"text-align: right;\">\n",
       "      <th></th>\n",
       "      <th>LABEL</th>\n",
       "      <th>TEXT</th>\n",
       "      <th>PROCESSED_TEXT</th>\n",
       "    </tr>\n",
       "  </thead>\n",
       "  <tbody>\n",
       "    <tr>\n",
       "      <th>0</th>\n",
       "      <td>-1</td>\n",
       "      <td>Your opinion about me? 1. Over 2. Jada 3. Kusr...</td>\n",
       "      <td>opinion 1 2 jada 3 kusruthi 4 lovable 5 silent...</td>\n",
       "    </tr>\n",
       "    <tr>\n",
       "      <th>1</th>\n",
       "      <td>-1</td>\n",
       "      <td>What's up? Do you want me to come online? If y...</td>\n",
       "      <td>want come online free talk</td>\n",
       "    </tr>\n",
       "    <tr>\n",
       "      <th>2</th>\n",
       "      <td>-1</td>\n",
       "      <td>So u workin overtime nigpun?</td>\n",
       "      <td>u workin overtime nigpun</td>\n",
       "    </tr>\n",
       "    <tr>\n",
       "      <th>3</th>\n",
       "      <td>-1</td>\n",
       "      <td>Also sir, i sent you an email about how to log...</td>\n",
       "      <td>sir send email log usc payment portal i.ll sen...</td>\n",
       "    </tr>\n",
       "    <tr>\n",
       "      <th>4</th>\n",
       "      <td>1</td>\n",
       "      <td>Please Stay At Home. To encourage the notion o...</td>\n",
       "      <td>stay home encourage notion stay home tax pay c...</td>\n",
       "    </tr>\n",
       "    <tr>\n",
       "      <th>5</th>\n",
       "      <td>1</td>\n",
       "      <td>BankOfAmerica Alert 137943. Please follow http...</td>\n",
       "      <td>bankofamerica alert 137943 follow http://bit.d...</td>\n",
       "    </tr>\n",
       "    <tr>\n",
       "      <th>6</th>\n",
       "      <td>-1</td>\n",
       "      <td>Sorry dude. Dont know how i forgot. Even after...</td>\n",
       "      <td>sorry dude not know forget dan remind sorry ho...</td>\n",
       "    </tr>\n",
       "    <tr>\n",
       "      <th>7</th>\n",
       "      <td>-1</td>\n",
       "      <td>I don't quite know what to do. I still can't g...</td>\n",
       "      <td>know hold cud pick bout 7.30pm pub</td>\n",
       "    </tr>\n",
       "    <tr>\n",
       "      <th>8</th>\n",
       "      <td>-1</td>\n",
       "      <td>Ok lor. Anyway i thk we cant get tickets now c...</td>\n",
       "      <td>ok lor thk not ticket cos like late u wan 2 lo...</td>\n",
       "    </tr>\n",
       "    <tr>\n",
       "      <th>9</th>\n",
       "      <td>-1</td>\n",
       "      <td>Wat r u doing now?</td>\n",
       "      <td>wat r u</td>\n",
       "    </tr>\n",
       "    <tr>\n",
       "      <th>10</th>\n",
       "      <td>-1</td>\n",
       "      <td>Buy one egg for me da..please:)</td>\n",
       "      <td>buy egg da</td>\n",
       "    </tr>\n",
       "    <tr>\n",
       "      <th>11</th>\n",
       "      <td>-1</td>\n",
       "      <td>Is there a reason we've not spoken this year? ...</td>\n",
       "      <td>reason ' ve speak year anyways great week good...</td>\n",
       "    </tr>\n",
       "    <tr>\n",
       "      <th>12</th>\n",
       "      <td>-1</td>\n",
       "      <td>Stop the story. I've told him i've returned it...</td>\n",
       "      <td>stop story ' ve tell ' ve return say order</td>\n",
       "    </tr>\n",
       "    <tr>\n",
       "      <th>13</th>\n",
       "      <td>-1</td>\n",
       "      <td>No. I dont want to hear anything</td>\n",
       "      <td>not want hear</td>\n",
       "    </tr>\n",
       "    <tr>\n",
       "      <th>14</th>\n",
       "      <td>-1</td>\n",
       "      <td>I'm e person who's doing e sms survey...</td>\n",
       "      <td>' m e person e sms survey</td>\n",
       "    </tr>\n",
       "    <tr>\n",
       "      <th>15</th>\n",
       "      <td>-1</td>\n",
       "      <td>Mm i had my food da from out</td>\n",
       "      <td>mm food da</td>\n",
       "    </tr>\n",
       "    <tr>\n",
       "      <th>16</th>\n",
       "      <td>-1</td>\n",
       "      <td>4 tacos + 1 rajas burrito, right?</td>\n",
       "      <td>4 taco + 1 rajas burrito right</td>\n",
       "    </tr>\n",
       "    <tr>\n",
       "      <th>17</th>\n",
       "      <td>-1</td>\n",
       "      <td>House-Maid is the murderer, coz the man was mu...</td>\n",
       "      <td>house maid murderer coz man murder 26th january</td>\n",
       "    </tr>\n",
       "    <tr>\n",
       "      <th>18</th>\n",
       "      <td>-1</td>\n",
       "      <td>Yes! How is a pretty lady like you single?</td>\n",
       "      <td>yes pretty lady like single</td>\n",
       "    </tr>\n",
       "    <tr>\n",
       "      <th>19</th>\n",
       "      <td>-1</td>\n",
       "      <td>(That said can you text him one more time?)</td>\n",
       "      <td>say text time</td>\n",
       "    </tr>\n",
       "  </tbody>\n",
       "</table>\n",
       "</div>"
      ],
      "text/plain": [
       "    LABEL                                               TEXT  \\\n",
       "0      -1  Your opinion about me? 1. Over 2. Jada 3. Kusr...   \n",
       "1      -1  What's up? Do you want me to come online? If y...   \n",
       "2      -1                       So u workin overtime nigpun?   \n",
       "3      -1  Also sir, i sent you an email about how to log...   \n",
       "4       1  Please Stay At Home. To encourage the notion o...   \n",
       "5       1  BankOfAmerica Alert 137943. Please follow http...   \n",
       "6      -1  Sorry dude. Dont know how i forgot. Even after...   \n",
       "7      -1  I don't quite know what to do. I still can't g...   \n",
       "8      -1  Ok lor. Anyway i thk we cant get tickets now c...   \n",
       "9      -1                                 Wat r u doing now?   \n",
       "10     -1                    Buy one egg for me da..please:)   \n",
       "11     -1  Is there a reason we've not spoken this year? ...   \n",
       "12     -1  Stop the story. I've told him i've returned it...   \n",
       "13     -1                   No. I dont want to hear anything   \n",
       "14     -1           I'm e person who's doing e sms survey...   \n",
       "15     -1                       Mm i had my food da from out   \n",
       "16     -1                  4 tacos + 1 rajas burrito, right?   \n",
       "17     -1  House-Maid is the murderer, coz the man was mu...   \n",
       "18     -1         Yes! How is a pretty lady like you single?   \n",
       "19     -1        (That said can you text him one more time?)   \n",
       "\n",
       "                                       PROCESSED_TEXT  \n",
       "0   opinion 1 2 jada 3 kusruthi 4 lovable 5 silent...  \n",
       "1                          want come online free talk  \n",
       "2                            u workin overtime nigpun  \n",
       "3   sir send email log usc payment portal i.ll sen...  \n",
       "4   stay home encourage notion stay home tax pay c...  \n",
       "5   bankofamerica alert 137943 follow http://bit.d...  \n",
       "6   sorry dude not know forget dan remind sorry ho...  \n",
       "7                  know hold cud pick bout 7.30pm pub  \n",
       "8   ok lor thk not ticket cos like late u wan 2 lo...  \n",
       "9                                             wat r u  \n",
       "10                                         buy egg da  \n",
       "11  reason ' ve speak year anyways great week good...  \n",
       "12         stop story ' ve tell ' ve return say order  \n",
       "13                                      not want hear  \n",
       "14                          ' m e person e sms survey  \n",
       "15                                         mm food da  \n",
       "16                     4 taco + 1 rajas burrito right  \n",
       "17    house maid murderer coz man murder 26th january  \n",
       "18                        yes pretty lady like single  \n",
       "19                                      say text time  "
      ]
     },
     "execution_count": 236,
     "metadata": {},
     "output_type": "execute_result"
    }
   ],
   "source": [
    "df_transformado.head(20)"
   ]
  },
  {
   "cell_type": "code",
   "execution_count": null,
   "id": "71ad96c6",
   "metadata": {},
   "outputs": [
    {
     "data": {
      "text/plain": [
       "'want come online free talk'"
      ]
     },
     "metadata": {},
     "output_type": "display_data"
    },
    {
     "data": {
      "text/plain": [
       "\"What's up? Do you want me to come online? If you are free we can talk sometime�\""
      ]
     },
     "metadata": {},
     "output_type": "display_data"
    }
   ],
   "source": [
    "# TODO: Melhorar alguns lemmas, colocar stemm, retirar os caracteres especiais\n",
    "display(df_transformado[\"PROCESSED_TEXT\"].iloc[1])\n",
    "display(df_transformado[\"TEXT\"].iloc[1])"
   ]
  },
  {
   "cell_type": "code",
   "execution_count": null,
   "id": "21a45c5d",
   "metadata": {},
   "outputs": [
    {
     "data": {
      "text/plain": [
       "4767"
      ]
     },
     "metadata": {},
     "output_type": "display_data"
    },
    {
     "data": {
      "text/plain": [
       "455"
      ]
     },
     "metadata": {},
     "output_type": "display_data"
    },
    {
     "data": {
      "text/plain": [
       "470"
      ]
     },
     "metadata": {},
     "output_type": "display_data"
    }
   ],
   "source": [
    "display(len(df_transformado[df_transformado[\"LABEL\"] == -1]))\n",
    "display(len(df_transformado[df_transformado[\"LABEL\"] == 0]))\n",
    "display(len(df_transformado[df_transformado[\"LABEL\"] == 1]))"
   ]
  },
  {
   "cell_type": "markdown",
   "id": "f2840364",
   "metadata": {},
   "source": [
    "# Treinamento"
   ]
  },
  {
   "cell_type": "code",
   "execution_count": null,
   "id": "7ba3543f",
   "metadata": {},
   "outputs": [],
   "source": [
    "df_teste = df_transformado.iloc[:1500].copy()\n",
    "df_validacao = df_transformado.iloc[1500:].copy()"
   ]
  },
  {
   "cell_type": "code",
   "execution_count": null,
   "id": "8ddd7eb9",
   "metadata": {},
   "outputs": [],
   "source": [
    "x = df_teste[\"PROCESSED_TEXT\"]\n",
    "y = df_teste[\"LABEL\"]"
   ]
  },
  {
   "cell_type": "code",
   "execution_count": null,
   "id": "0323964d",
   "metadata": {},
   "outputs": [],
   "source": [
    "x_train, x_test, y_train, y_test = train_test_split(x, y, test_size=0.3, random_state=42)"
   ]
  },
  {
   "cell_type": "code",
   "execution_count": null,
   "id": "adc07515",
   "metadata": {},
   "outputs": [],
   "source": [
    "class_weights = {-1: 1, 0: 2, 1: 4}"
   ]
  },
  {
   "cell_type": "code",
   "execution_count": null,
   "id": "ced8372a",
   "metadata": {},
   "outputs": [],
   "source": [
    "#TODO: Precisa levar esse cara para lá\n",
    "vectorizer = TfidfVectorizer()\n",
    "x_train_tfidf = vectorizer.fit_transform(x_train)\n",
    "x_test_tfidf = vectorizer.transform(x_test)"
   ]
  },
  {
   "cell_type": "code",
   "execution_count": null,
   "id": "b93cbdeb",
   "metadata": {},
   "outputs": [
    {
     "data": {
      "text/plain": [
       "array([[0., 0., 0., ..., 0., 0., 0.]])"
      ]
     },
     "execution_count": 244,
     "metadata": {},
     "output_type": "execute_result"
    }
   ],
   "source": [
    "vectorizer.transform([\"BankOfAmerica Alert 137943. Please follow http://bit.do/cgjK-and re-activate\"]).toarray()"
   ]
  },
  {
   "cell_type": "markdown",
   "id": "e419833e",
   "metadata": {},
   "source": [
    "##### Logistic Regression"
   ]
  },
  {
   "cell_type": "code",
   "execution_count": null,
   "id": "fb465944",
   "metadata": {},
   "outputs": [
    {
     "data": {
      "text/html": [
       "<style>#sk-container-id-11 {color: black;}#sk-container-id-11 pre{padding: 0;}#sk-container-id-11 div.sk-toggleable {background-color: white;}#sk-container-id-11 label.sk-toggleable__label {cursor: pointer;display: block;width: 100%;margin-bottom: 0;padding: 0.3em;box-sizing: border-box;text-align: center;}#sk-container-id-11 label.sk-toggleable__label-arrow:before {content: \"▸\";float: left;margin-right: 0.25em;color: #696969;}#sk-container-id-11 label.sk-toggleable__label-arrow:hover:before {color: black;}#sk-container-id-11 div.sk-estimator:hover label.sk-toggleable__label-arrow:before {color: black;}#sk-container-id-11 div.sk-toggleable__content {max-height: 0;max-width: 0;overflow: hidden;text-align: left;background-color: #f0f8ff;}#sk-container-id-11 div.sk-toggleable__content pre {margin: 0.2em;color: black;border-radius: 0.25em;background-color: #f0f8ff;}#sk-container-id-11 input.sk-toggleable__control:checked~div.sk-toggleable__content {max-height: 200px;max-width: 100%;overflow: auto;}#sk-container-id-11 input.sk-toggleable__control:checked~label.sk-toggleable__label-arrow:before {content: \"▾\";}#sk-container-id-11 div.sk-estimator input.sk-toggleable__control:checked~label.sk-toggleable__label {background-color: #d4ebff;}#sk-container-id-11 div.sk-label input.sk-toggleable__control:checked~label.sk-toggleable__label {background-color: #d4ebff;}#sk-container-id-11 input.sk-hidden--visually {border: 0;clip: rect(1px 1px 1px 1px);clip: rect(1px, 1px, 1px, 1px);height: 1px;margin: -1px;overflow: hidden;padding: 0;position: absolute;width: 1px;}#sk-container-id-11 div.sk-estimator {font-family: monospace;background-color: #f0f8ff;border: 1px dotted black;border-radius: 0.25em;box-sizing: border-box;margin-bottom: 0.5em;}#sk-container-id-11 div.sk-estimator:hover {background-color: #d4ebff;}#sk-container-id-11 div.sk-parallel-item::after {content: \"\";width: 100%;border-bottom: 1px solid gray;flex-grow: 1;}#sk-container-id-11 div.sk-label:hover label.sk-toggleable__label {background-color: #d4ebff;}#sk-container-id-11 div.sk-serial::before {content: \"\";position: absolute;border-left: 1px solid gray;box-sizing: border-box;top: 0;bottom: 0;left: 50%;z-index: 0;}#sk-container-id-11 div.sk-serial {display: flex;flex-direction: column;align-items: center;background-color: white;padding-right: 0.2em;padding-left: 0.2em;position: relative;}#sk-container-id-11 div.sk-item {position: relative;z-index: 1;}#sk-container-id-11 div.sk-parallel {display: flex;align-items: stretch;justify-content: center;background-color: white;position: relative;}#sk-container-id-11 div.sk-item::before, #sk-container-id-11 div.sk-parallel-item::before {content: \"\";position: absolute;border-left: 1px solid gray;box-sizing: border-box;top: 0;bottom: 0;left: 50%;z-index: -1;}#sk-container-id-11 div.sk-parallel-item {display: flex;flex-direction: column;z-index: 1;position: relative;background-color: white;}#sk-container-id-11 div.sk-parallel-item:first-child::after {align-self: flex-end;width: 50%;}#sk-container-id-11 div.sk-parallel-item:last-child::after {align-self: flex-start;width: 50%;}#sk-container-id-11 div.sk-parallel-item:only-child::after {width: 0;}#sk-container-id-11 div.sk-dashed-wrapped {border: 1px dashed gray;margin: 0 0.4em 0.5em 0.4em;box-sizing: border-box;padding-bottom: 0.4em;background-color: white;}#sk-container-id-11 div.sk-label label {font-family: monospace;font-weight: bold;display: inline-block;line-height: 1.2em;}#sk-container-id-11 div.sk-label-container {text-align: center;}#sk-container-id-11 div.sk-container {/* jupyter's `normalize.less` sets `[hidden] { display: none; }` but bootstrap.min.css set `[hidden] { display: none !important; }` so we also need the `!important` here to be able to override the default hidden behavior on the sphinx rendered scikit-learn.org. See: https://github.com/scikit-learn/scikit-learn/issues/21755 */display: inline-block !important;position: relative;}#sk-container-id-11 div.sk-text-repr-fallback {display: none;}</style><div id=\"sk-container-id-11\" class=\"sk-top-container\"><div class=\"sk-text-repr-fallback\"><pre>LogisticRegression(class_weight={-1: 1, 0: 2, 1: 4}, multi_class=&#x27;multinomial&#x27;,\n",
       "                   random_state=42)</pre><b>In a Jupyter environment, please rerun this cell to show the HTML representation or trust the notebook. <br />On GitHub, the HTML representation is unable to render, please try loading this page with nbviewer.org.</b></div><div class=\"sk-container\" hidden><div class=\"sk-item\"><div class=\"sk-estimator sk-toggleable\"><input class=\"sk-toggleable__control sk-hidden--visually\" id=\"sk-estimator-id-11\" type=\"checkbox\" checked><label for=\"sk-estimator-id-11\" class=\"sk-toggleable__label sk-toggleable__label-arrow\">LogisticRegression</label><div class=\"sk-toggleable__content\"><pre>LogisticRegression(class_weight={-1: 1, 0: 2, 1: 4}, multi_class=&#x27;multinomial&#x27;,\n",
       "                   random_state=42)</pre></div></div></div></div></div>"
      ],
      "text/plain": [
       "LogisticRegression(class_weight={-1: 1, 0: 2, 1: 4}, multi_class='multinomial',\n",
       "                   random_state=42)"
      ]
     },
     "execution_count": 245,
     "metadata": {},
     "output_type": "execute_result"
    }
   ],
   "source": [
    "model = LogisticRegression(solver=\"lbfgs\", multi_class=\"multinomial\", random_state=42, class_weight=class_weights)\n",
    "model.fit(x_train_tfidf, y_train)"
   ]
  },
  {
   "cell_type": "code",
   "execution_count": null,
   "id": "3cbc9660",
   "metadata": {},
   "outputs": [],
   "source": [
    "y_pred = model.predict(x_test_tfidf)"
   ]
  },
  {
   "cell_type": "code",
   "execution_count": null,
   "id": "dacb51e5",
   "metadata": {},
   "outputs": [
    {
     "name": "stdout",
     "output_type": "stream",
     "text": [
      "Acurácia do modelo: 0.91\n",
      "Relatório de Classificação:\n",
      "              precision    recall  f1-score   support\n",
      "\n",
      "          -1       0.93      1.00      0.96       363\n",
      "           0       0.76      0.36      0.49        36\n",
      "           1       0.82      0.71      0.76        51\n",
      "\n",
      "    accuracy                           0.91       450\n",
      "   macro avg       0.84      0.69      0.74       450\n",
      "weighted avg       0.90      0.91      0.90       450\n",
      "\n"
     ]
    }
   ],
   "source": [
    "accuracy = accuracy_score(y_test, y_pred)\n",
    "report = classification_report(y_test, y_pred)\n",
    "print(f\"Acurácia do modelo: {accuracy:.2f}\")\n",
    "print(f'Relatório de Classificação:\\n{report}')"
   ]
  },
  {
   "cell_type": "markdown",
   "id": "4d8d73f6",
   "metadata": {},
   "source": [
    "#### Random Florest"
   ]
  },
  {
   "cell_type": "code",
   "execution_count": null,
   "id": "59ddd4a5",
   "metadata": {},
   "outputs": [
    {
     "data": {
      "text/html": [
       "<style>#sk-container-id-12 {color: black;}#sk-container-id-12 pre{padding: 0;}#sk-container-id-12 div.sk-toggleable {background-color: white;}#sk-container-id-12 label.sk-toggleable__label {cursor: pointer;display: block;width: 100%;margin-bottom: 0;padding: 0.3em;box-sizing: border-box;text-align: center;}#sk-container-id-12 label.sk-toggleable__label-arrow:before {content: \"▸\";float: left;margin-right: 0.25em;color: #696969;}#sk-container-id-12 label.sk-toggleable__label-arrow:hover:before {color: black;}#sk-container-id-12 div.sk-estimator:hover label.sk-toggleable__label-arrow:before {color: black;}#sk-container-id-12 div.sk-toggleable__content {max-height: 0;max-width: 0;overflow: hidden;text-align: left;background-color: #f0f8ff;}#sk-container-id-12 div.sk-toggleable__content pre {margin: 0.2em;color: black;border-radius: 0.25em;background-color: #f0f8ff;}#sk-container-id-12 input.sk-toggleable__control:checked~div.sk-toggleable__content {max-height: 200px;max-width: 100%;overflow: auto;}#sk-container-id-12 input.sk-toggleable__control:checked~label.sk-toggleable__label-arrow:before {content: \"▾\";}#sk-container-id-12 div.sk-estimator input.sk-toggleable__control:checked~label.sk-toggleable__label {background-color: #d4ebff;}#sk-container-id-12 div.sk-label input.sk-toggleable__control:checked~label.sk-toggleable__label {background-color: #d4ebff;}#sk-container-id-12 input.sk-hidden--visually {border: 0;clip: rect(1px 1px 1px 1px);clip: rect(1px, 1px, 1px, 1px);height: 1px;margin: -1px;overflow: hidden;padding: 0;position: absolute;width: 1px;}#sk-container-id-12 div.sk-estimator {font-family: monospace;background-color: #f0f8ff;border: 1px dotted black;border-radius: 0.25em;box-sizing: border-box;margin-bottom: 0.5em;}#sk-container-id-12 div.sk-estimator:hover {background-color: #d4ebff;}#sk-container-id-12 div.sk-parallel-item::after {content: \"\";width: 100%;border-bottom: 1px solid gray;flex-grow: 1;}#sk-container-id-12 div.sk-label:hover label.sk-toggleable__label {background-color: #d4ebff;}#sk-container-id-12 div.sk-serial::before {content: \"\";position: absolute;border-left: 1px solid gray;box-sizing: border-box;top: 0;bottom: 0;left: 50%;z-index: 0;}#sk-container-id-12 div.sk-serial {display: flex;flex-direction: column;align-items: center;background-color: white;padding-right: 0.2em;padding-left: 0.2em;position: relative;}#sk-container-id-12 div.sk-item {position: relative;z-index: 1;}#sk-container-id-12 div.sk-parallel {display: flex;align-items: stretch;justify-content: center;background-color: white;position: relative;}#sk-container-id-12 div.sk-item::before, #sk-container-id-12 div.sk-parallel-item::before {content: \"\";position: absolute;border-left: 1px solid gray;box-sizing: border-box;top: 0;bottom: 0;left: 50%;z-index: -1;}#sk-container-id-12 div.sk-parallel-item {display: flex;flex-direction: column;z-index: 1;position: relative;background-color: white;}#sk-container-id-12 div.sk-parallel-item:first-child::after {align-self: flex-end;width: 50%;}#sk-container-id-12 div.sk-parallel-item:last-child::after {align-self: flex-start;width: 50%;}#sk-container-id-12 div.sk-parallel-item:only-child::after {width: 0;}#sk-container-id-12 div.sk-dashed-wrapped {border: 1px dashed gray;margin: 0 0.4em 0.5em 0.4em;box-sizing: border-box;padding-bottom: 0.4em;background-color: white;}#sk-container-id-12 div.sk-label label {font-family: monospace;font-weight: bold;display: inline-block;line-height: 1.2em;}#sk-container-id-12 div.sk-label-container {text-align: center;}#sk-container-id-12 div.sk-container {/* jupyter's `normalize.less` sets `[hidden] { display: none; }` but bootstrap.min.css set `[hidden] { display: none !important; }` so we also need the `!important` here to be able to override the default hidden behavior on the sphinx rendered scikit-learn.org. See: https://github.com/scikit-learn/scikit-learn/issues/21755 */display: inline-block !important;position: relative;}#sk-container-id-12 div.sk-text-repr-fallback {display: none;}</style><div id=\"sk-container-id-12\" class=\"sk-top-container\"><div class=\"sk-text-repr-fallback\"><pre>RandomForestClassifier(class_weight={-1: 1, 0: 2, 1: 4}, random_state=42)</pre><b>In a Jupyter environment, please rerun this cell to show the HTML representation or trust the notebook. <br />On GitHub, the HTML representation is unable to render, please try loading this page with nbviewer.org.</b></div><div class=\"sk-container\" hidden><div class=\"sk-item\"><div class=\"sk-estimator sk-toggleable\"><input class=\"sk-toggleable__control sk-hidden--visually\" id=\"sk-estimator-id-12\" type=\"checkbox\" checked><label for=\"sk-estimator-id-12\" class=\"sk-toggleable__label sk-toggleable__label-arrow\">RandomForestClassifier</label><div class=\"sk-toggleable__content\"><pre>RandomForestClassifier(class_weight={-1: 1, 0: 2, 1: 4}, random_state=42)</pre></div></div></div></div></div>"
      ],
      "text/plain": [
       "RandomForestClassifier(class_weight={-1: 1, 0: 2, 1: 4}, random_state=42)"
      ]
     },
     "execution_count": 248,
     "metadata": {},
     "output_type": "execute_result"
    }
   ],
   "source": [
    "rf_classifier = RandomForestClassifier(random_state=42, class_weight=class_weights)\n",
    "rf_classifier.fit(x_train_tfidf, y_train)"
   ]
  },
  {
   "cell_type": "code",
   "execution_count": null,
   "id": "e5dfd738",
   "metadata": {},
   "outputs": [],
   "source": [
    "y_pred = rf_classifier.predict(x_test_tfidf)"
   ]
  },
  {
   "cell_type": "code",
   "execution_count": null,
   "id": "44c5962a",
   "metadata": {},
   "outputs": [
    {
     "name": "stdout",
     "output_type": "stream",
     "text": [
      "Acurácia do modelo: 0.91\n",
      "Relatório de Classificação:\n",
      "              precision    recall  f1-score   support\n",
      "\n",
      "          -1       0.92      1.00      0.96       363\n",
      "           0       0.76      0.44      0.56        36\n",
      "           1       0.89      0.63      0.74        51\n",
      "\n",
      "    accuracy                           0.91       450\n",
      "   macro avg       0.86      0.69      0.75       450\n",
      "weighted avg       0.91      0.91      0.90       450\n",
      "\n"
     ]
    }
   ],
   "source": [
    "accuracy = accuracy_score(y_test, y_pred)\n",
    "report = classification_report(y_test, y_pred)\n",
    "print(f\"Acurácia do modelo: {accuracy:.2f}\")\n",
    "print(f'Relatório de Classificação:\\n{report}')"
   ]
  },
  {
   "cell_type": "markdown",
   "id": "84eb3748",
   "metadata": {},
   "source": [
    "#### SVM"
   ]
  },
  {
   "cell_type": "code",
   "execution_count": null,
   "id": "5b951833",
   "metadata": {},
   "outputs": [
    {
     "data": {
      "text/html": [
       "<style>#sk-container-id-13 {color: black;}#sk-container-id-13 pre{padding: 0;}#sk-container-id-13 div.sk-toggleable {background-color: white;}#sk-container-id-13 label.sk-toggleable__label {cursor: pointer;display: block;width: 100%;margin-bottom: 0;padding: 0.3em;box-sizing: border-box;text-align: center;}#sk-container-id-13 label.sk-toggleable__label-arrow:before {content: \"▸\";float: left;margin-right: 0.25em;color: #696969;}#sk-container-id-13 label.sk-toggleable__label-arrow:hover:before {color: black;}#sk-container-id-13 div.sk-estimator:hover label.sk-toggleable__label-arrow:before {color: black;}#sk-container-id-13 div.sk-toggleable__content {max-height: 0;max-width: 0;overflow: hidden;text-align: left;background-color: #f0f8ff;}#sk-container-id-13 div.sk-toggleable__content pre {margin: 0.2em;color: black;border-radius: 0.25em;background-color: #f0f8ff;}#sk-container-id-13 input.sk-toggleable__control:checked~div.sk-toggleable__content {max-height: 200px;max-width: 100%;overflow: auto;}#sk-container-id-13 input.sk-toggleable__control:checked~label.sk-toggleable__label-arrow:before {content: \"▾\";}#sk-container-id-13 div.sk-estimator input.sk-toggleable__control:checked~label.sk-toggleable__label {background-color: #d4ebff;}#sk-container-id-13 div.sk-label input.sk-toggleable__control:checked~label.sk-toggleable__label {background-color: #d4ebff;}#sk-container-id-13 input.sk-hidden--visually {border: 0;clip: rect(1px 1px 1px 1px);clip: rect(1px, 1px, 1px, 1px);height: 1px;margin: -1px;overflow: hidden;padding: 0;position: absolute;width: 1px;}#sk-container-id-13 div.sk-estimator {font-family: monospace;background-color: #f0f8ff;border: 1px dotted black;border-radius: 0.25em;box-sizing: border-box;margin-bottom: 0.5em;}#sk-container-id-13 div.sk-estimator:hover {background-color: #d4ebff;}#sk-container-id-13 div.sk-parallel-item::after {content: \"\";width: 100%;border-bottom: 1px solid gray;flex-grow: 1;}#sk-container-id-13 div.sk-label:hover label.sk-toggleable__label {background-color: #d4ebff;}#sk-container-id-13 div.sk-serial::before {content: \"\";position: absolute;border-left: 1px solid gray;box-sizing: border-box;top: 0;bottom: 0;left: 50%;z-index: 0;}#sk-container-id-13 div.sk-serial {display: flex;flex-direction: column;align-items: center;background-color: white;padding-right: 0.2em;padding-left: 0.2em;position: relative;}#sk-container-id-13 div.sk-item {position: relative;z-index: 1;}#sk-container-id-13 div.sk-parallel {display: flex;align-items: stretch;justify-content: center;background-color: white;position: relative;}#sk-container-id-13 div.sk-item::before, #sk-container-id-13 div.sk-parallel-item::before {content: \"\";position: absolute;border-left: 1px solid gray;box-sizing: border-box;top: 0;bottom: 0;left: 50%;z-index: -1;}#sk-container-id-13 div.sk-parallel-item {display: flex;flex-direction: column;z-index: 1;position: relative;background-color: white;}#sk-container-id-13 div.sk-parallel-item:first-child::after {align-self: flex-end;width: 50%;}#sk-container-id-13 div.sk-parallel-item:last-child::after {align-self: flex-start;width: 50%;}#sk-container-id-13 div.sk-parallel-item:only-child::after {width: 0;}#sk-container-id-13 div.sk-dashed-wrapped {border: 1px dashed gray;margin: 0 0.4em 0.5em 0.4em;box-sizing: border-box;padding-bottom: 0.4em;background-color: white;}#sk-container-id-13 div.sk-label label {font-family: monospace;font-weight: bold;display: inline-block;line-height: 1.2em;}#sk-container-id-13 div.sk-label-container {text-align: center;}#sk-container-id-13 div.sk-container {/* jupyter's `normalize.less` sets `[hidden] { display: none; }` but bootstrap.min.css set `[hidden] { display: none !important; }` so we also need the `!important` here to be able to override the default hidden behavior on the sphinx rendered scikit-learn.org. See: https://github.com/scikit-learn/scikit-learn/issues/21755 */display: inline-block !important;position: relative;}#sk-container-id-13 div.sk-text-repr-fallback {display: none;}</style><div id=\"sk-container-id-13\" class=\"sk-top-container\"><div class=\"sk-text-repr-fallback\"><pre>SVC(class_weight={-1: 1, 0: 2, 1: 4}, kernel=&#x27;linear&#x27;, random_state=42)</pre><b>In a Jupyter environment, please rerun this cell to show the HTML representation or trust the notebook. <br />On GitHub, the HTML representation is unable to render, please try loading this page with nbviewer.org.</b></div><div class=\"sk-container\" hidden><div class=\"sk-item\"><div class=\"sk-estimator sk-toggleable\"><input class=\"sk-toggleable__control sk-hidden--visually\" id=\"sk-estimator-id-13\" type=\"checkbox\" checked><label for=\"sk-estimator-id-13\" class=\"sk-toggleable__label sk-toggleable__label-arrow\">SVC</label><div class=\"sk-toggleable__content\"><pre>SVC(class_weight={-1: 1, 0: 2, 1: 4}, kernel=&#x27;linear&#x27;, random_state=42)</pre></div></div></div></div></div>"
      ],
      "text/plain": [
       "SVC(class_weight={-1: 1, 0: 2, 1: 4}, kernel='linear', random_state=42)"
      ]
     },
     "execution_count": 251,
     "metadata": {},
     "output_type": "execute_result"
    }
   ],
   "source": [
    "svm_classifier = SVC(kernel='linear',random_state=42, class_weight=class_weights)\n",
    "svm_classifier.fit(x_train_tfidf, y_train)"
   ]
  },
  {
   "cell_type": "code",
   "execution_count": null,
   "id": "d2669a34",
   "metadata": {},
   "outputs": [],
   "source": [
    "y_pred = svm_classifier.predict(x_test_tfidf)"
   ]
  },
  {
   "cell_type": "code",
   "execution_count": null,
   "id": "2e17f1c9",
   "metadata": {},
   "outputs": [
    {
     "name": "stdout",
     "output_type": "stream",
     "text": [
      "Acurácia do modelo: 0.92\n",
      "Relatório de Classificação:\n",
      "              precision    recall  f1-score   support\n",
      "\n",
      "          -1       0.94      1.00      0.97       363\n",
      "           0       0.70      0.44      0.54        36\n",
      "           1       0.83      0.69      0.75        51\n",
      "\n",
      "    accuracy                           0.92       450\n",
      "   macro avg       0.82      0.71      0.75       450\n",
      "weighted avg       0.91      0.92      0.91       450\n",
      "\n"
     ]
    }
   ],
   "source": [
    "accuracy = accuracy_score(y_test, y_pred)\n",
    "report = classification_report(y_test, y_pred)\n",
    "print(f\"Acurácia do modelo: {accuracy:.2f}\")\n",
    "print(f'Relatório de Classificação:\\n{report}')"
   ]
  },
  {
   "cell_type": "markdown",
   "id": "95223ba9-0846-45c2-a9db-18e0ec407412",
   "metadata": {},
   "source": [
    "# Validação"
   ]
  },
  {
   "cell_type": "code",
   "execution_count": null,
   "id": "782176e7-974a-4ce9-8aa3-d588dd01b8e8",
   "metadata": {},
   "outputs": [],
   "source": [
    "x_v = vectorizer.transform(df_validacao[\"PROCESSED_TEXT\"])\n",
    "y_v = df_validacao[\"LABEL\"]\n",
    "y_pred = model.predict(x_v)"
   ]
  },
  {
   "cell_type": "code",
   "execution_count": null,
   "id": "f6b02ee3",
   "metadata": {},
   "outputs": [],
   "source": [
    "x_v = vectorizer.transform(df_validacao[\"PROCESSED_TEXT\"])\n",
    "y_v = df_validacao[\"LABEL\"]\n",
    "y_pred = rf_classifier.predict(x_v)"
   ]
  },
  {
   "cell_type": "code",
   "execution_count": null,
   "id": "4a16a761",
   "metadata": {},
   "outputs": [],
   "source": [
    "x_v = vectorizer.transform(df_validacao[\"PROCESSED_TEXT\"])\n",
    "y_v = df_validacao[\"LABEL\"]\n",
    "y_pred = svm_classifier.predict(x_v)"
   ]
  },
  {
   "cell_type": "code",
   "execution_count": null,
   "id": "2d17b070-8686-486e-8abd-84295d8c29b1",
   "metadata": {},
   "outputs": [
    {
     "name": "stdout",
     "output_type": "stream",
     "text": [
      "Acurácia do modelo: 0.95\n",
      "Relatório de Classificação:\n",
      "              precision    recall  f1-score   support\n",
      "\n",
      "          -1       0.97      1.00      0.98      3544\n",
      "           0       0.77      0.58      0.66       332\n",
      "           1       0.82      0.77      0.79       316\n",
      "\n",
      "    accuracy                           0.95      4192\n",
      "   macro avg       0.85      0.78      0.81      4192\n",
      "weighted avg       0.94      0.95      0.94      4192\n",
      "\n"
     ]
    }
   ],
   "source": [
    "accuracy = accuracy_score(y_v, y_pred)\n",
    "report = classification_report(y_v, y_pred)\n",
    "print(f\"Acurácia do modelo: {accuracy:.2f}\")\n",
    "print(f'Relatório de Classificação:\\n{report}')"
   ]
  },
  {
   "cell_type": "code",
   "execution_count": null,
   "id": "aa46fca1",
   "metadata": {},
   "outputs": [],
   "source": [
    "with open(\"modelo/modelo.pkl\", 'wb') as arquivo:\n",
    "    pickle.dump(model, arquivo)\n",
    "\n",
    "with open(\"modelo/vectorize.pkl\", \"wb\") as arquivo:\n",
    "    pickle.dump(vectorizer, arquivo)"
   ]
  },
  {
   "cell_type": "markdown",
   "id": "0643a49e",
   "metadata": {},
   "source": [
    "# Teste de exportação"
   ]
  },
  {
   "cell_type": "code",
   "execution_count": null,
   "id": "176f9f57",
   "metadata": {},
   "outputs": [],
   "source": [
    "test = vectorizer.transform([\"bankofamerica alert 137943 follow http://bit.do/cgjk-and activate\"])"
   ]
  },
  {
   "cell_type": "code",
   "execution_count": null,
   "id": "f55c4315",
   "metadata": {},
   "outputs": [
    {
     "data": {
      "text/plain": [
       "array([[0., 0., 0., ..., 0., 0., 0.]])"
      ]
     },
     "execution_count": 260,
     "metadata": {},
     "output_type": "execute_result"
    }
   ],
   "source": [
    "test.toarray()"
   ]
  },
  {
   "cell_type": "code",
   "execution_count": null,
   "id": "f76ff04c",
   "metadata": {},
   "outputs": [],
   "source": [
    "pred = model.predict(test)"
   ]
  },
  {
   "cell_type": "code",
   "execution_count": null,
   "id": "124b5632",
   "metadata": {},
   "outputs": [
    {
     "data": {
      "text/plain": [
       "array([1])"
      ]
     },
     "execution_count": 262,
     "metadata": {},
     "output_type": "execute_result"
    }
   ],
   "source": [
    "pred"
   ]
  },
  {
   "cell_type": "code",
   "execution_count": null,
   "id": "a4539a0f",
   "metadata": {},
   "outputs": [],
   "source": [
    "with open('modelo/modelo.pkl', 'rb') as arquivo:\n",
    "    modelo_test = pickle.load(arquivo)\n",
    "\n",
    "with open('modelo/vectorize.pkl', 'rb') as arquivo:\n",
    "    vectorize = pickle.load(arquivo)"
   ]
  },
  {
   "cell_type": "code",
   "execution_count": null,
   "id": "8b359180",
   "metadata": {},
   "outputs": [
    {
     "data": {
      "text/html": [
       "<style>#sk-container-id-14 {color: black;}#sk-container-id-14 pre{padding: 0;}#sk-container-id-14 div.sk-toggleable {background-color: white;}#sk-container-id-14 label.sk-toggleable__label {cursor: pointer;display: block;width: 100%;margin-bottom: 0;padding: 0.3em;box-sizing: border-box;text-align: center;}#sk-container-id-14 label.sk-toggleable__label-arrow:before {content: \"▸\";float: left;margin-right: 0.25em;color: #696969;}#sk-container-id-14 label.sk-toggleable__label-arrow:hover:before {color: black;}#sk-container-id-14 div.sk-estimator:hover label.sk-toggleable__label-arrow:before {color: black;}#sk-container-id-14 div.sk-toggleable__content {max-height: 0;max-width: 0;overflow: hidden;text-align: left;background-color: #f0f8ff;}#sk-container-id-14 div.sk-toggleable__content pre {margin: 0.2em;color: black;border-radius: 0.25em;background-color: #f0f8ff;}#sk-container-id-14 input.sk-toggleable__control:checked~div.sk-toggleable__content {max-height: 200px;max-width: 100%;overflow: auto;}#sk-container-id-14 input.sk-toggleable__control:checked~label.sk-toggleable__label-arrow:before {content: \"▾\";}#sk-container-id-14 div.sk-estimator input.sk-toggleable__control:checked~label.sk-toggleable__label {background-color: #d4ebff;}#sk-container-id-14 div.sk-label input.sk-toggleable__control:checked~label.sk-toggleable__label {background-color: #d4ebff;}#sk-container-id-14 input.sk-hidden--visually {border: 0;clip: rect(1px 1px 1px 1px);clip: rect(1px, 1px, 1px, 1px);height: 1px;margin: -1px;overflow: hidden;padding: 0;position: absolute;width: 1px;}#sk-container-id-14 div.sk-estimator {font-family: monospace;background-color: #f0f8ff;border: 1px dotted black;border-radius: 0.25em;box-sizing: border-box;margin-bottom: 0.5em;}#sk-container-id-14 div.sk-estimator:hover {background-color: #d4ebff;}#sk-container-id-14 div.sk-parallel-item::after {content: \"\";width: 100%;border-bottom: 1px solid gray;flex-grow: 1;}#sk-container-id-14 div.sk-label:hover label.sk-toggleable__label {background-color: #d4ebff;}#sk-container-id-14 div.sk-serial::before {content: \"\";position: absolute;border-left: 1px solid gray;box-sizing: border-box;top: 0;bottom: 0;left: 50%;z-index: 0;}#sk-container-id-14 div.sk-serial {display: flex;flex-direction: column;align-items: center;background-color: white;padding-right: 0.2em;padding-left: 0.2em;position: relative;}#sk-container-id-14 div.sk-item {position: relative;z-index: 1;}#sk-container-id-14 div.sk-parallel {display: flex;align-items: stretch;justify-content: center;background-color: white;position: relative;}#sk-container-id-14 div.sk-item::before, #sk-container-id-14 div.sk-parallel-item::before {content: \"\";position: absolute;border-left: 1px solid gray;box-sizing: border-box;top: 0;bottom: 0;left: 50%;z-index: -1;}#sk-container-id-14 div.sk-parallel-item {display: flex;flex-direction: column;z-index: 1;position: relative;background-color: white;}#sk-container-id-14 div.sk-parallel-item:first-child::after {align-self: flex-end;width: 50%;}#sk-container-id-14 div.sk-parallel-item:last-child::after {align-self: flex-start;width: 50%;}#sk-container-id-14 div.sk-parallel-item:only-child::after {width: 0;}#sk-container-id-14 div.sk-dashed-wrapped {border: 1px dashed gray;margin: 0 0.4em 0.5em 0.4em;box-sizing: border-box;padding-bottom: 0.4em;background-color: white;}#sk-container-id-14 div.sk-label label {font-family: monospace;font-weight: bold;display: inline-block;line-height: 1.2em;}#sk-container-id-14 div.sk-label-container {text-align: center;}#sk-container-id-14 div.sk-container {/* jupyter's `normalize.less` sets `[hidden] { display: none; }` but bootstrap.min.css set `[hidden] { display: none !important; }` so we also need the `!important` here to be able to override the default hidden behavior on the sphinx rendered scikit-learn.org. See: https://github.com/scikit-learn/scikit-learn/issues/21755 */display: inline-block !important;position: relative;}#sk-container-id-14 div.sk-text-repr-fallback {display: none;}</style><div id=\"sk-container-id-14\" class=\"sk-top-container\"><div class=\"sk-text-repr-fallback\"><pre>TfidfVectorizer()</pre><b>In a Jupyter environment, please rerun this cell to show the HTML representation or trust the notebook. <br />On GitHub, the HTML representation is unable to render, please try loading this page with nbviewer.org.</b></div><div class=\"sk-container\" hidden><div class=\"sk-item\"><div class=\"sk-estimator sk-toggleable\"><input class=\"sk-toggleable__control sk-hidden--visually\" id=\"sk-estimator-id-14\" type=\"checkbox\" checked><label for=\"sk-estimator-id-14\" class=\"sk-toggleable__label sk-toggleable__label-arrow\">TfidfVectorizer</label><div class=\"sk-toggleable__content\"><pre>TfidfVectorizer()</pre></div></div></div></div></div>"
      ],
      "text/plain": [
       "TfidfVectorizer()"
      ]
     },
     "execution_count": 264,
     "metadata": {},
     "output_type": "execute_result"
    }
   ],
   "source": [
    "vectorize"
   ]
  },
  {
   "cell_type": "code",
   "execution_count": null,
   "id": "6f99a1f5",
   "metadata": {},
   "outputs": [
    {
     "data": {
      "text/html": [
       "<style>#sk-container-id-15 {color: black;}#sk-container-id-15 pre{padding: 0;}#sk-container-id-15 div.sk-toggleable {background-color: white;}#sk-container-id-15 label.sk-toggleable__label {cursor: pointer;display: block;width: 100%;margin-bottom: 0;padding: 0.3em;box-sizing: border-box;text-align: center;}#sk-container-id-15 label.sk-toggleable__label-arrow:before {content: \"▸\";float: left;margin-right: 0.25em;color: #696969;}#sk-container-id-15 label.sk-toggleable__label-arrow:hover:before {color: black;}#sk-container-id-15 div.sk-estimator:hover label.sk-toggleable__label-arrow:before {color: black;}#sk-container-id-15 div.sk-toggleable__content {max-height: 0;max-width: 0;overflow: hidden;text-align: left;background-color: #f0f8ff;}#sk-container-id-15 div.sk-toggleable__content pre {margin: 0.2em;color: black;border-radius: 0.25em;background-color: #f0f8ff;}#sk-container-id-15 input.sk-toggleable__control:checked~div.sk-toggleable__content {max-height: 200px;max-width: 100%;overflow: auto;}#sk-container-id-15 input.sk-toggleable__control:checked~label.sk-toggleable__label-arrow:before {content: \"▾\";}#sk-container-id-15 div.sk-estimator input.sk-toggleable__control:checked~label.sk-toggleable__label {background-color: #d4ebff;}#sk-container-id-15 div.sk-label input.sk-toggleable__control:checked~label.sk-toggleable__label {background-color: #d4ebff;}#sk-container-id-15 input.sk-hidden--visually {border: 0;clip: rect(1px 1px 1px 1px);clip: rect(1px, 1px, 1px, 1px);height: 1px;margin: -1px;overflow: hidden;padding: 0;position: absolute;width: 1px;}#sk-container-id-15 div.sk-estimator {font-family: monospace;background-color: #f0f8ff;border: 1px dotted black;border-radius: 0.25em;box-sizing: border-box;margin-bottom: 0.5em;}#sk-container-id-15 div.sk-estimator:hover {background-color: #d4ebff;}#sk-container-id-15 div.sk-parallel-item::after {content: \"\";width: 100%;border-bottom: 1px solid gray;flex-grow: 1;}#sk-container-id-15 div.sk-label:hover label.sk-toggleable__label {background-color: #d4ebff;}#sk-container-id-15 div.sk-serial::before {content: \"\";position: absolute;border-left: 1px solid gray;box-sizing: border-box;top: 0;bottom: 0;left: 50%;z-index: 0;}#sk-container-id-15 div.sk-serial {display: flex;flex-direction: column;align-items: center;background-color: white;padding-right: 0.2em;padding-left: 0.2em;position: relative;}#sk-container-id-15 div.sk-item {position: relative;z-index: 1;}#sk-container-id-15 div.sk-parallel {display: flex;align-items: stretch;justify-content: center;background-color: white;position: relative;}#sk-container-id-15 div.sk-item::before, #sk-container-id-15 div.sk-parallel-item::before {content: \"\";position: absolute;border-left: 1px solid gray;box-sizing: border-box;top: 0;bottom: 0;left: 50%;z-index: -1;}#sk-container-id-15 div.sk-parallel-item {display: flex;flex-direction: column;z-index: 1;position: relative;background-color: white;}#sk-container-id-15 div.sk-parallel-item:first-child::after {align-self: flex-end;width: 50%;}#sk-container-id-15 div.sk-parallel-item:last-child::after {align-self: flex-start;width: 50%;}#sk-container-id-15 div.sk-parallel-item:only-child::after {width: 0;}#sk-container-id-15 div.sk-dashed-wrapped {border: 1px dashed gray;margin: 0 0.4em 0.5em 0.4em;box-sizing: border-box;padding-bottom: 0.4em;background-color: white;}#sk-container-id-15 div.sk-label label {font-family: monospace;font-weight: bold;display: inline-block;line-height: 1.2em;}#sk-container-id-15 div.sk-label-container {text-align: center;}#sk-container-id-15 div.sk-container {/* jupyter's `normalize.less` sets `[hidden] { display: none; }` but bootstrap.min.css set `[hidden] { display: none !important; }` so we also need the `!important` here to be able to override the default hidden behavior on the sphinx rendered scikit-learn.org. See: https://github.com/scikit-learn/scikit-learn/issues/21755 */display: inline-block !important;position: relative;}#sk-container-id-15 div.sk-text-repr-fallback {display: none;}</style><div id=\"sk-container-id-15\" class=\"sk-top-container\"><div class=\"sk-text-repr-fallback\"><pre>LogisticRegression(class_weight={-1: 1, 0: 2, 1: 4}, multi_class=&#x27;multinomial&#x27;,\n",
       "                   random_state=42)</pre><b>In a Jupyter environment, please rerun this cell to show the HTML representation or trust the notebook. <br />On GitHub, the HTML representation is unable to render, please try loading this page with nbviewer.org.</b></div><div class=\"sk-container\" hidden><div class=\"sk-item\"><div class=\"sk-estimator sk-toggleable\"><input class=\"sk-toggleable__control sk-hidden--visually\" id=\"sk-estimator-id-15\" type=\"checkbox\" checked><label for=\"sk-estimator-id-15\" class=\"sk-toggleable__label sk-toggleable__label-arrow\">LogisticRegression</label><div class=\"sk-toggleable__content\"><pre>LogisticRegression(class_weight={-1: 1, 0: 2, 1: 4}, multi_class=&#x27;multinomial&#x27;,\n",
       "                   random_state=42)</pre></div></div></div></div></div>"
      ],
      "text/plain": [
       "LogisticRegression(class_weight={-1: 1, 0: 2, 1: 4}, multi_class='multinomial',\n",
       "                   random_state=42)"
      ]
     },
     "execution_count": 265,
     "metadata": {},
     "output_type": "execute_result"
    }
   ],
   "source": [
    "modelo_test"
   ]
  },
  {
   "cell_type": "code",
   "execution_count": null,
   "id": "f4de5ff9",
   "metadata": {},
   "outputs": [],
   "source": [
    "val = vectorize.transform([\"bankofamerica alert 137943 follow http://bit.do/cgjk-and activate\"])"
   ]
  },
  {
   "cell_type": "code",
   "execution_count": null,
   "id": "3e636519",
   "metadata": {},
   "outputs": [
    {
     "data": {
      "text/plain": [
       "array([[0., 0., 0., ..., 0., 0., 0.]])"
      ]
     },
     "execution_count": 267,
     "metadata": {},
     "output_type": "execute_result"
    }
   ],
   "source": [
    "val.toarray()"
   ]
  },
  {
   "cell_type": "code",
   "execution_count": null,
   "id": "785c6a95",
   "metadata": {},
   "outputs": [],
   "source": [
    "pred_val = modelo_test.predict(val)"
   ]
  },
  {
   "cell_type": "code",
   "execution_count": null,
   "id": "c57239a8",
   "metadata": {},
   "outputs": [
    {
     "data": {
      "text/plain": [
       "array([1])"
      ]
     },
     "execution_count": 269,
     "metadata": {},
     "output_type": "execute_result"
    }
   ],
   "source": [
    "pred_val"
   ]
  },
  {
   "cell_type": "code",
   "execution_count": null,
   "id": "5cad7b1b",
   "metadata": {},
   "outputs": [],
   "source": []
  }
 ],
 "metadata": {
  "kernelspec": {
   "display_name": "Python 3 (ipykernel)",
   "language": "python",
   "name": "python3"
  },
  "language_info": {
   "codemirror_mode": {
    "name": "ipython",
    "version": 3
   },
   "file_extension": ".py",
   "mimetype": "text/x-python",
   "name": "python",
   "nbconvert_exporter": "python",
   "pygments_lexer": "ipython3",
   "version": "3.11.4"
  }
 },
 "nbformat": 4,
 "nbformat_minor": 5
}
